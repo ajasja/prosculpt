{
 "cells": [
  {
   "cell_type": "code",
   "execution_count": null,
   "metadata": {},
   "outputs": [],
   "source": [
    "# This notebook needs to work with the prosculpt env.\n",
    "#\n",
    "# First set the conda executable of your VScode to /home/folivieri/miniforge3/etc/profile.d/conda.sh (I'm not entirely sure this is necessary)\n",
    "# Then ctrl-shift-P, Select interpreter, choose path, and input /home/folivieri/.conda/envs/prosculpt/bin/python3.12"
   ]
  },
  {
   "cell_type": "code",
   "execution_count": 1,
   "metadata": {},
   "outputs": [],
   "source": [
    "import pandas as pd\n",
    "import os\n",
    "import shutil\n",
    "import glob\n",
    "import pathlib\n",
    "import seaborn as sns"
   ]
  },
  {
   "cell_type": "code",
   "execution_count": null,
   "metadata": {},
   "outputs": [
    {
     "name": "stdout",
     "output_type": "stream",
     "text": [
      "['/home/d12-studenti/Marc/GLP1R/Day3-Fixed/05', '/home/d12-studenti/Marc/GLP1R/Day3-Fixed/01', '/home/d12-studenti/Marc/GLP1R/Day3-Fixed/02', '/home/d12-studenti/Marc/GLP1R/Day3-Fixed/03', '/home/d12-studenti/Marc/GLP1R/Day3-Fixed/04']\n"
     ]
    }
   ],
   "source": [
    "# Set requirements for filtering\n",
    "\n",
    "plddt_threshold = 70\n",
    "plddt_sculpted_threshold = 80\n",
    "rmsd_threshold = 3\n",
    "\n",
    "rmsd_fixedchains_threshold = 8\n",
    "rmsd_motif_threshold = 2\n",
    "rmsd_sculpted_threshold = 4\n",
    "\n",
    "folder = \"/home/d12-studenti/Minimal_Prosculpt_scripts/Project_name/output\"  # Set to output folder (the one with all the sub-task folders).\n",
    "folders = glob.glob(folder + \"/*\")\n",
    "print(folders)"
   ]
  },
  {
   "cell_type": "code",
   "execution_count": null,
   "metadata": {},
   "outputs": [
    {
     "name": "stdout",
     "output_type": "stream",
     "text": [
      "/home/d12-studenti/Marc/GLP1R/Day3-Fixed/05 8\n",
      "/home/d12-studenti/Marc/GLP1R/Day3-Fixed/01 6\n",
      "/home/d12-studenti/Marc/GLP1R/Day3-Fixed/04 10\n"
     ]
    }
   ],
   "source": [
    "# Select best pdbs based on different criteria\n",
    "\n",
    "good_results_dict = {}\n",
    "copy_files = True  # Copy the files? Usually this is what you want\n",
    "\n",
    "for subfolder in folders:\n",
    "    # print(folder)\n",
    "    if os.path.exists(os.path.join(subfolder, \"best_pdbs\")):\n",
    "        shutil.rmtree(os.path.join(subfolder, \"best_pdbs\"))\n",
    "    if os.path.exists(os.path.join(subfolder, \"final_output_best.csv\")):\n",
    "        os.remove(os.path.join(subfolder, \"final_output_best.csv\"))\n",
    "\n",
    "    if os.path.exists(os.path.join(subfolder, \"final_output.csv\")):\n",
    "        df = pd.read_csv(os.path.join(subfolder, \"final_output.csv\"))\n",
    "        # print(df['RMSD_sculpted'])\n",
    "        # df['RMSD_sculpted'] = pd.to_numeric(df['RMSD_sculpted'])\n",
    "        # best_df=df[(df[\"RMSD_sculpted\"] <= rmsd_sculpted_threshold) & (df[\"plddt\"] >= plddt_threshold)] #select best based on thresholds\n",
    "        best_df = df[\n",
    "            (df[\"RMSD\"] <= rmsd_threshold)\n",
    "            & (df[\"RMSD_sculpted\"] <= rmsd_sculpted_threshold)\n",
    "            & (df[\"plddt\"] >= plddt_threshold)\n",
    "            & (df[\"plddt_sculpted\"] >= plddt_sculpted_threshold)\n",
    "        ]  # select best based on thresholds\n",
    "        # best_df=df[(df[\"RMSD_sculpted\"] <= rmsd_sculpted_threshold) & (df[\"plddt_sculpted\"] >= plddt_sculpted_threshold)] #select best based on thresholds\n",
    "        # best_df=df[(df[\"RMSD_sculpted\"] <= rmsd_sculpted_threshold) & (df[\"plddt\"] >= plddt_threshold)& (df[\"plddt_sculpted\"] >= plddt_sculpted_threshold)] #select best based on thresholds\n",
    "        # best_df=df[(df[\"RMSD_motif\"] <= rmsd_motif_threshold) & (df[\"plddt_sculpted\"] >= plddt_sculpted_threshold) & (df[\"RMSD_fixed_chains\"] <= rmsd_fixedchains_threshold) & (df[\"RMSD_sculpted\"] <= rmsd_sculpted_threshold)]\n",
    "\n",
    "        # best_df['id']= df.apply(lambda row: f\"{pathlib.Path(row['path_rfdiff']).stem[1:]}.{row['link_lenght']:.{0}f}.{row['plddt_sculpted']:.{0}f}.{row['RMSD_sculpted']:.{0}f}.{row['pae']:.{0}f}\", axis=1)\n",
    "        # duplicates = best_df['id'].duplicated()\n",
    "        # print('Number of duplicated ids: ', sum(duplicates))\n",
    "        # print(best_df)\n",
    "\n",
    "        # best_df=df[(df[\"plddt\"] >= plddt_threshold)] #Only plddt\n",
    "        # best_df=df[(df[\"RMSD_sculpted\"] <= rmsd_sculpted_threshold)] #Only rmsd sculpted\n",
    "        # best_df=df[(df[\"pae\"] <= 8)] #Only rmsd sculpted\n",
    "        dir_best_pdbs = os.path.join(subfolder, \"best_pdbs\")\n",
    "\n",
    "        if copy_files:\n",
    "            os.makedirs(\n",
    "                dir_best_pdbs, exist_ok=True\n",
    "            )  # directory is created even if some or all of the intermediate directories in the path do not exist\n",
    "            best_folder = os.path.join(subfolder, \"best_pdbs\")\n",
    "            for index, row in best_df.iterrows():\n",
    "                file = str(row[\"model_path\"])\n",
    "                shutil.copy(file, os.path.join(best_folder, pathlib.Path(file).name))\n",
    "\n",
    "                # file=file.replace('/home/folivieri/prosculpt/Fibers_Rollers_rigid_fusion/output/','/home/folivieri/prosculpt/Fibers_Rollers_rigid_fusion/99_2024-04-22/')\n",
    "                # id=row[\"id\"]\n",
    "                # id_filename=id+'.pdb'\n",
    "                # shutil.copy(file,os.path.join(best_folder,str(id_filename)))\n",
    "        best_df = best_df.replace(\"final_pdbs\", \"best_pdbs\", regex=True)\n",
    "\n",
    "        best_df.to_csv(\n",
    "            f'{os.path.join(subfolder, \"final_output_best.csv\")}', index=False\n",
    "        )\n",
    "        good_results_dict[pathlib.Path(subfolder).name] = len(best_df)\n",
    "\n",
    "        print(subfolder, len(best_df))"
   ]
  },
  {
   "cell_type": "code",
   "execution_count": null,
   "metadata": {},
   "outputs": [
    {
     "data": {
      "text/html": [
       "<div>\n",
       "<style scoped>\n",
       "    .dataframe tbody tr th:only-of-type {\n",
       "        vertical-align: middle;\n",
       "    }\n",
       "\n",
       "    .dataframe tbody tr th {\n",
       "        vertical-align: top;\n",
       "    }\n",
       "\n",
       "    .dataframe thead th {\n",
       "        text-align: right;\n",
       "    }\n",
       "</style>\n",
       "<table border=\"1\" class=\"dataframe\">\n",
       "  <thead>\n",
       "    <tr style=\"text-align: right;\">\n",
       "      <th></th>\n",
       "      <th>0</th>\n",
       "    </tr>\n",
       "  </thead>\n",
       "  <tbody>\n",
       "    <tr>\n",
       "      <th>04</th>\n",
       "      <td>10</td>\n",
       "    </tr>\n",
       "    <tr>\n",
       "      <th>05</th>\n",
       "      <td>8</td>\n",
       "    </tr>\n",
       "    <tr>\n",
       "      <th>01</th>\n",
       "      <td>6</td>\n",
       "    </tr>\n",
       "  </tbody>\n",
       "</table>\n",
       "</div>"
      ],
      "text/plain": [
       "     0\n",
       "04  10\n",
       "05   8\n",
       "01   6"
      ]
     },
     "metadata": {},
     "output_type": "display_data"
    }
   ],
   "source": [
    "# Display number of results per task\n",
    "good_results_df = pd.DataFrame.from_dict(good_results_dict, \"index\")\n",
    "pd.set_option(\"display.max_rows\", None)\n",
    "display(good_results_df.sort_values(0, ascending=False))"
   ]
  },
  {
   "cell_type": "code",
   "execution_count": null,
   "metadata": {},
   "outputs": [
    {
     "name": "stdout",
     "output_type": "stream",
     "text": [
      "['/home/d12-studenti/Marc/GLP1R/Day3-Fixed/05/best_pdbs/5.53.1.1__link_74__plddt_88__plddt_sculpted_88__rmsd_2.0__rmsd_sculpted_3.5__rmsd_fixedchains_0.7__rmsd_motif_-1__pae_5.78__out_05_.pdb', '/home/d12-studenti/Marc/GLP1R/Day3-Fixed/05/best_pdbs/5.0.4.1__link_61__plddt_87__plddt_sculpted_86__rmsd_2.0__rmsd_sculpted_4.0__rmsd_fixedchains_0.9__rmsd_motif_-1__pae_7.81__out_05_.pdb', '/home/d12-studenti/Marc/GLP1R/Day3-Fixed/05/best_pdbs/5.53.2.1__link_74__plddt_86__plddt_sculpted_84__rmsd_1.9__rmsd_sculpted_3.2__rmsd_fixedchains_0.7__rmsd_motif_-1__pae_7.3__out_05_.pdb', '/home/d12-studenti/Marc/GLP1R/Day3-Fixed/05/best_pdbs/5.35.2.1__link_74__plddt_90__plddt_sculpted_90__rmsd_1.5__rmsd_sculpted_3.8__rmsd_fixedchains_1.0__rmsd_motif_-1__pae_5.63__out_05_.pdb', '/home/d12-studenti/Marc/GLP1R/Day3-Fixed/05/best_pdbs/5.47.4.1__link_67__plddt_87__plddt_sculpted_88__rmsd_1.8__rmsd_sculpted_3.5__rmsd_fixedchains_1.1__rmsd_motif_-1__pae_6.87__out_05_.pdb', '/home/d12-studenti/Marc/GLP1R/Day3-Fixed/05/best_pdbs/5.72.4.1__link_66__plddt_91__plddt_sculpted_95__rmsd_1.8__rmsd_sculpted_3.7__rmsd_fixedchains_1.5__rmsd_motif_-1__pae_5.02__out_05_.pdb', '/home/d12-studenti/Marc/GLP1R/Day3-Fixed/05/best_pdbs/5.38.2.1__link_81__plddt_94__plddt_sculpted_96__rmsd_1.4__rmsd_sculpted_2.7__rmsd_fixedchains_0.9__rmsd_motif_-1__pae_4.98__out_05_.pdb', '/home/d12-studenti/Marc/GLP1R/Day3-Fixed/05/best_pdbs/5.61.1.1__link_88__plddt_89__plddt_sculpted_91__rmsd_2.0__rmsd_sculpted_3.2__rmsd_fixedchains_0.9__rmsd_motif_-1__pae_5.34__out_05_.pdb', '/home/d12-studenti/Marc/GLP1R/Day3-Fixed/01/best_pdbs/1.36.2.1__link_79__plddt_85__plddt_sculpted_83__rmsd_1.4__rmsd_sculpted_3.3__rmsd_fixedchains_0.9__rmsd_motif_-1__pae_6.94__out_01_.pdb', '/home/d12-studenti/Marc/GLP1R/Day3-Fixed/01/best_pdbs/1.36.1.1__link_79__plddt_90__plddt_sculpted_90__rmsd_0.9__rmsd_sculpted_1.0__rmsd_fixedchains_0.9__rmsd_motif_-1__pae_5.91__out_01_.pdb', '/home/d12-studenti/Marc/GLP1R/Day3-Fixed/01/best_pdbs/1.52.5.1__link_72__plddt_92__plddt_sculpted_95__rmsd_1.2__rmsd_sculpted_2.2__rmsd_fixedchains_1.0__rmsd_motif_-1__pae_5.01__out_01_.pdb', '/home/d12-studenti/Marc/GLP1R/Day3-Fixed/01/best_pdbs/1.99.3.1__link_85__plddt_83__plddt_sculpted_82__rmsd_1.6__rmsd_sculpted_3.5__rmsd_fixedchains_1.0__rmsd_motif_-1__pae_10.07__out_01_.pdb', '/home/d12-studenti/Marc/GLP1R/Day3-Fixed/01/best_pdbs/1.90.5.1__link_72__plddt_82__plddt_sculpted_83__rmsd_2.0__rmsd_sculpted_4.0__rmsd_fixedchains_1.0__rmsd_motif_-1__pae_8.91__out_01_.pdb', '/home/d12-studenti/Marc/GLP1R/Day3-Fixed/01/best_pdbs/1.52.3.1__link_72__plddt_94__plddt_sculpted_97__rmsd_1.5__rmsd_sculpted_3.1__rmsd_fixedchains_1.0__rmsd_motif_-1__pae_4.59__out_01_.pdb', '/home/d12-studenti/Marc/GLP1R/Day3-Fixed/04/best_pdbs/4.16.5.1__link_84__plddt_86__plddt_sculpted_85__rmsd_1.4__rmsd_sculpted_2.6__rmsd_fixedchains_0.8__rmsd_motif_-1__pae_6.52__out_04_.pdb', '/home/d12-studenti/Marc/GLP1R/Day3-Fixed/04/best_pdbs/4.2.5.1__link_83__plddt_91__plddt_sculpted_92__rmsd_1.6__rmsd_sculpted_3.4__rmsd_fixedchains_1.0__rmsd_motif_-1__pae_4.95__out_04_.pdb', '/home/d12-studenti/Marc/GLP1R/Day3-Fixed/04/best_pdbs/4.66.5.1__link_83__plddt_88__plddt_sculpted_87__rmsd_1.6__rmsd_sculpted_3.0__rmsd_fixedchains_0.9__rmsd_motif_-1__pae_6.08__out_04_.pdb', '/home/d12-studenti/Marc/GLP1R/Day3-Fixed/04/best_pdbs/4.23.5.1__link_89__plddt_87__plddt_sculpted_90__rmsd_1.4__rmsd_sculpted_3.5__rmsd_fixedchains_0.9__rmsd_motif_-1__pae_8.42__out_04_.pdb', '/home/d12-studenti/Marc/GLP1R/Day3-Fixed/04/best_pdbs/4.14.3.1__link_86__plddt_92__plddt_sculpted_95__rmsd_1.6__rmsd_sculpted_3.9__rmsd_fixedchains_1.0__rmsd_motif_-1__pae_5.54__out_04_.pdb', '/home/d12-studenti/Marc/GLP1R/Day3-Fixed/04/best_pdbs/4.93.3.1__link_89__plddt_89__plddt_sculpted_89__rmsd_1.3__rmsd_sculpted_3.1__rmsd_fixedchains_1.0__rmsd_motif_-1__pae_5.42__out_04_.pdb', '/home/d12-studenti/Marc/GLP1R/Day3-Fixed/04/best_pdbs/4.16.4.1__link_84__plddt_82__plddt_sculpted_82__rmsd_1.3__rmsd_sculpted_2.2__rmsd_fixedchains_0.9__rmsd_motif_-1__pae_9.04__out_04_.pdb', '/home/d12-studenti/Marc/GLP1R/Day3-Fixed/04/best_pdbs/4.2.4.1__link_83__plddt_89__plddt_sculpted_88__rmsd_1.3__rmsd_sculpted_2.9__rmsd_fixedchains_0.9__rmsd_motif_-1__pae_5.53__out_04_.pdb', '/home/d12-studenti/Marc/GLP1R/Day3-Fixed/04/best_pdbs/4.54.3.1__link_73__plddt_90__plddt_sculpted_90__rmsd_1.2__rmsd_sculpted_1.8__rmsd_fixedchains_1.0__rmsd_motif_-1__pae_5.17__out_04_.pdb', '/home/d12-studenti/Marc/GLP1R/Day3-Fixed/04/best_pdbs/4.41.4.1__link_82__plddt_83__plddt_sculpted_85__rmsd_1.4__rmsd_sculpted_2.5__rmsd_fixedchains_0.9__rmsd_motif_-1__pae_10.19__out_04_.pdb']\n"
     ]
    }
   ],
   "source": [
    "# Pool all pdbs that were selected above for each task into one folder\n",
    "\n",
    "pdbs = glob.glob(folder + \"/*/best_pdbs/*\")\n",
    "print(pdbs)\n",
    "\n",
    "pooled_folder = os.path.join(folder, \"pooled_best_pdbs\")\n",
    "os.makedirs(pooled_folder, exist_ok=True)\n",
    "\n",
    "for pdb in pdbs:\n",
    "    shutil.copy(pdb, pooled_folder)\n",
    "\n",
    "best_csvs = glob.glob(folder + \"/*/final_output_best.csv\")\n",
    "\n",
    "df_list = []\n",
    "for csv_file in best_csvs:\n",
    "    df = pd.read_csv(csv_file)\n",
    "    df_list.append(df)\n",
    "big_df = pd.concat(df_list, ignore_index=True)\n",
    "\n",
    "\n",
    "def get_id_from_path(model_path):\n",
    "    return os.path.basename(model_path)\n",
    "\n",
    "\n",
    "big_df[\"file_name\"] = big_df[\"model_path\"].apply(get_id_from_path)\n",
    "big_df.to_csv(os.path.join(pooled_folder, \"prosculpt_metrics.csv\"), index=False)"
   ]
  },
  {
   "cell_type": "code",
   "execution_count": 6,
   "metadata": {},
   "outputs": [
    {
     "name": "stdout",
     "output_type": "stream",
     "text": [
      "/home/d12-studenti/Marc/GLP1R/Day3-Fixed/pooled_best_pdbs\n",
      "found 24 pdbs\n",
      "Submitted batch job 721029\n"
     ]
    }
   ],
   "source": [
    "#Run rosetta metrics on pooled best structures\n",
    "\n",
    "\n",
    "\n",
    "input_folders=[pooled_folder] \n",
    "for folder in input_folders:   \n",
    "    print(folder)\n",
    "    if len(glob.glob(folder+\"/*.pdb\")) != 0:\n",
    "        print(f\"found {len(glob.glob(folder+\"/*.pdb\"))} pdbs\")\n",
    "        !sbatch --array=1-10 /home/folivieri/prosculpt_projects/ZZ_my_scripts/rosetta_metrics_jug_with_split.slurm {folder} rosetta.csv \n",
    "\n"
   ]
  },
  {
   "cell_type": "code",
   "execution_count": null,
   "metadata": {},
   "outputs": [],
   "source": [
    "# remove the jug data (this is important. it interferes next time you want to run it)\n",
    "# shutil.rmtree(\"/home/folivieri/prosculpt_projects/ZZ_my_scripts/rosetta_metrics_with_split.jugdata\")"
   ]
  },
  {
   "cell_type": "code",
   "execution_count": null,
   "metadata": {},
   "outputs": [
    {
     "name": "stdout",
     "output_type": "stream",
     "text": [
      "/home/d12-studenti/Marc/GLP1R/Day3-Fixed/pooled_best_pdbs/5.53.1.1__link_74__plddt_88__plddt_sculpted_88__rmsd_2.0__rmsd_sculpted_3.5__rmsd_fixedchains_0.7__rmsd_motif_-1__pae_5.78__out_05_.pdb\n",
      "/home/d12-studenti/Marc/GLP1R/Day3-Fixed/pooled_best_pdbs/1.36.2.1__link_79__plddt_85__plddt_sculpted_83__rmsd_1.4__rmsd_sculpted_3.3__rmsd_fixedchains_0.9__rmsd_motif_-1__pae_6.94__out_01_.pdb\n",
      "/home/d12-studenti/Marc/GLP1R/Day3-Fixed/pooled_best_pdbs/5.0.4.1__link_61__plddt_87__plddt_sculpted_86__rmsd_2.0__rmsd_sculpted_4.0__rmsd_fixedchains_0.9__rmsd_motif_-1__pae_7.81__out_05_.pdb\n",
      "/home/d12-studenti/Marc/GLP1R/Day3-Fixed/pooled_best_pdbs/5.53.2.1__link_74__plddt_86__plddt_sculpted_84__rmsd_1.9__rmsd_sculpted_3.2__rmsd_fixedchains_0.7__rmsd_motif_-1__pae_7.3__out_05_.pdb\n",
      "/home/d12-studenti/Marc/GLP1R/Day3-Fixed/pooled_best_pdbs/1.36.1.1__link_79__plddt_90__plddt_sculpted_90__rmsd_0.9__rmsd_sculpted_1.0__rmsd_fixedchains_0.9__rmsd_motif_-1__pae_5.91__out_01_.pdb\n",
      "/home/d12-studenti/Marc/GLP1R/Day3-Fixed/pooled_best_pdbs/4.16.5.1__link_84__plddt_86__plddt_sculpted_85__rmsd_1.4__rmsd_sculpted_2.6__rmsd_fixedchains_0.8__rmsd_motif_-1__pae_6.52__out_04_.pdb\n",
      "/home/d12-studenti/Marc/GLP1R/Day3-Fixed/pooled_best_pdbs/5.35.2.1__link_74__plddt_90__plddt_sculpted_90__rmsd_1.5__rmsd_sculpted_3.8__rmsd_fixedchains_1.0__rmsd_motif_-1__pae_5.63__out_05_.pdb\n",
      "/home/d12-studenti/Marc/GLP1R/Day3-Fixed/pooled_best_pdbs/4.2.5.1__link_83__plddt_91__plddt_sculpted_92__rmsd_1.6__rmsd_sculpted_3.4__rmsd_fixedchains_1.0__rmsd_motif_-1__pae_4.95__out_04_.pdb\n"
     ]
    },
    {
     "name": "stderr",
     "output_type": "stream",
     "text": [
      "/home/folivieri/.conda/envs/prosculpt/lib/python3.12/site-packages/Bio/SeqIO/PdbIO.py:322: BiopythonParserWarning: 'HEADER' line not found; can't determine PDB ID.\n",
      "  warnings.warn(\n",
      "/home/folivieri/.conda/envs/prosculpt/lib/python3.12/site-packages/Bio/SeqIO/PdbIO.py:322: BiopythonParserWarning: 'HEADER' line not found; can't determine PDB ID.\n",
      "  warnings.warn(\n",
      "/home/folivieri/.conda/envs/prosculpt/lib/python3.12/site-packages/Bio/SeqIO/PdbIO.py:322: BiopythonParserWarning: 'HEADER' line not found; can't determine PDB ID.\n",
      "  warnings.warn(\n",
      "/home/folivieri/.conda/envs/prosculpt/lib/python3.12/site-packages/Bio/SeqIO/PdbIO.py:322: BiopythonParserWarning: 'HEADER' line not found; can't determine PDB ID.\n",
      "  warnings.warn(\n",
      "/home/folivieri/.conda/envs/prosculpt/lib/python3.12/site-packages/Bio/SeqIO/PdbIO.py:322: BiopythonParserWarning: 'HEADER' line not found; can't determine PDB ID.\n",
      "  warnings.warn(\n",
      "/home/folivieri/.conda/envs/prosculpt/lib/python3.12/site-packages/Bio/SeqIO/PdbIO.py:322: BiopythonParserWarning: 'HEADER' line not found; can't determine PDB ID.\n",
      "  warnings.warn(\n",
      "/home/folivieri/.conda/envs/prosculpt/lib/python3.12/site-packages/Bio/SeqIO/PdbIO.py:322: BiopythonParserWarning: 'HEADER' line not found; can't determine PDB ID.\n",
      "  warnings.warn(\n",
      "/home/folivieri/.conda/envs/prosculpt/lib/python3.12/site-packages/Bio/SeqIO/PdbIO.py:322: BiopythonParserWarning: 'HEADER' line not found; can't determine PDB ID.\n",
      "  warnings.warn(\n"
     ]
    },
    {
     "name": "stdout",
     "output_type": "stream",
     "text": [
      "/home/d12-studenti/Marc/GLP1R/Day3-Fixed/pooled_best_pdbs/5.47.4.1__link_67__plddt_87__plddt_sculpted_88__rmsd_1.8__rmsd_sculpted_3.5__rmsd_fixedchains_1.1__rmsd_motif_-1__pae_6.87__out_05_.pdb\n",
      "/home/d12-studenti/Marc/GLP1R/Day3-Fixed/pooled_best_pdbs/1.52.5.1__link_72__plddt_92__plddt_sculpted_95__rmsd_1.2__rmsd_sculpted_2.2__rmsd_fixedchains_1.0__rmsd_motif_-1__pae_5.01__out_01_.pdb\n",
      "/home/d12-studenti/Marc/GLP1R/Day3-Fixed/pooled_best_pdbs/5.72.4.1__link_66__plddt_91__plddt_sculpted_95__rmsd_1.8__rmsd_sculpted_3.7__rmsd_fixedchains_1.5__rmsd_motif_-1__pae_5.02__out_05_.pdb\n",
      "/home/d12-studenti/Marc/GLP1R/Day3-Fixed/pooled_best_pdbs/5.38.2.1__link_81__plddt_94__plddt_sculpted_96__rmsd_1.4__rmsd_sculpted_2.7__rmsd_fixedchains_0.9__rmsd_motif_-1__pae_4.98__out_05_.pdb\n",
      "/home/d12-studenti/Marc/GLP1R/Day3-Fixed/pooled_best_pdbs/4.66.5.1__link_83__plddt_88__plddt_sculpted_87__rmsd_1.6__rmsd_sculpted_3.0__rmsd_fixedchains_0.9__rmsd_motif_-1__pae_6.08__out_04_.pdb\n",
      "/home/d12-studenti/Marc/GLP1R/Day3-Fixed/pooled_best_pdbs/1.99.3.1__link_85__plddt_83__plddt_sculpted_82__rmsd_1.6__rmsd_sculpted_3.5__rmsd_fixedchains_1.0__rmsd_motif_-1__pae_10.07__out_01_.pdb\n",
      "/home/d12-studenti/Marc/GLP1R/Day3-Fixed/pooled_best_pdbs/1.90.5.1__link_72__plddt_82__plddt_sculpted_83__rmsd_2.0__rmsd_sculpted_4.0__rmsd_fixedchains_1.0__rmsd_motif_-1__pae_8.91__out_01_.pdb\n",
      "/home/d12-studenti/Marc/GLP1R/Day3-Fixed/pooled_best_pdbs/4.23.5.1__link_89__plddt_87__plddt_sculpted_90__rmsd_1.4__rmsd_sculpted_3.5__rmsd_fixedchains_0.9__rmsd_motif_-1__pae_8.42__out_04_.pdb\n",
      "/home/d12-studenti/Marc/GLP1R/Day3-Fixed/pooled_best_pdbs/4.14.3.1__link_86__plddt_92__plddt_sculpted_95__rmsd_1.6__rmsd_sculpted_3.9__rmsd_fixedchains_1.0__rmsd_motif_-1__pae_5.54__out_04_.pdb\n",
      "/home/d12-studenti/Marc/GLP1R/Day3-Fixed/pooled_best_pdbs/5.61.1.1__link_88__plddt_89__plddt_sculpted_91__rmsd_2.0__rmsd_sculpted_3.2__rmsd_fixedchains_0.9__rmsd_motif_-1__pae_5.34__out_05_.pdb\n",
      "/home/d12-studenti/Marc/GLP1R/Day3-Fixed/pooled_best_pdbs/4.93.3.1__link_89__plddt_89__plddt_sculpted_89__rmsd_1.3__rmsd_sculpted_3.1__rmsd_fixedchains_1.0__rmsd_motif_-1__pae_5.42__out_04_.pdb\n",
      "/home/d12-studenti/Marc/GLP1R/Day3-Fixed/pooled_best_pdbs/4.16.4.1__link_84__plddt_82__plddt_sculpted_82__rmsd_1.3__rmsd_sculpted_2.2__rmsd_fixedchains_0.9__rmsd_motif_-1__pae_9.04__out_04_.pdb\n",
      "/home/d12-studenti/Marc/GLP1R/Day3-Fixed/pooled_best_pdbs/4.2.4.1__link_83__plddt_89__plddt_sculpted_88__rmsd_1.3__rmsd_sculpted_2.9__rmsd_fixedchains_0.9__rmsd_motif_-1__pae_5.53__out_04_.pdb\n",
      "/home/d12-studenti/Marc/GLP1R/Day3-Fixed/pooled_best_pdbs/4.54.3.1__link_73__plddt_90__plddt_sculpted_90__rmsd_1.2__rmsd_sculpted_1.8__rmsd_fixedchains_1.0__rmsd_motif_-1__pae_5.17__out_04_.pdb\n"
     ]
    },
    {
     "name": "stderr",
     "output_type": "stream",
     "text": [
      "/home/folivieri/.conda/envs/prosculpt/lib/python3.12/site-packages/Bio/SeqIO/PdbIO.py:322: BiopythonParserWarning: 'HEADER' line not found; can't determine PDB ID.\n",
      "  warnings.warn(\n",
      "/home/folivieri/.conda/envs/prosculpt/lib/python3.12/site-packages/Bio/SeqIO/PdbIO.py:322: BiopythonParserWarning: 'HEADER' line not found; can't determine PDB ID.\n",
      "  warnings.warn(\n",
      "/home/folivieri/.conda/envs/prosculpt/lib/python3.12/site-packages/Bio/SeqIO/PdbIO.py:322: BiopythonParserWarning: 'HEADER' line not found; can't determine PDB ID.\n",
      "  warnings.warn(\n",
      "/home/folivieri/.conda/envs/prosculpt/lib/python3.12/site-packages/Bio/SeqIO/PdbIO.py:322: BiopythonParserWarning: 'HEADER' line not found; can't determine PDB ID.\n",
      "  warnings.warn(\n",
      "/home/folivieri/.conda/envs/prosculpt/lib/python3.12/site-packages/Bio/SeqIO/PdbIO.py:322: BiopythonParserWarning: 'HEADER' line not found; can't determine PDB ID.\n",
      "  warnings.warn(\n",
      "/home/folivieri/.conda/envs/prosculpt/lib/python3.12/site-packages/Bio/SeqIO/PdbIO.py:322: BiopythonParserWarning: 'HEADER' line not found; can't determine PDB ID.\n",
      "  warnings.warn(\n",
      "/home/folivieri/.conda/envs/prosculpt/lib/python3.12/site-packages/Bio/SeqIO/PdbIO.py:322: BiopythonParserWarning: 'HEADER' line not found; can't determine PDB ID.\n",
      "  warnings.warn(\n",
      "/home/folivieri/.conda/envs/prosculpt/lib/python3.12/site-packages/Bio/SeqIO/PdbIO.py:322: BiopythonParserWarning: 'HEADER' line not found; can't determine PDB ID.\n",
      "  warnings.warn(\n",
      "/home/folivieri/.conda/envs/prosculpt/lib/python3.12/site-packages/Bio/SeqIO/PdbIO.py:322: BiopythonParserWarning: 'HEADER' line not found; can't determine PDB ID.\n",
      "  warnings.warn(\n",
      "/home/folivieri/.conda/envs/prosculpt/lib/python3.12/site-packages/Bio/SeqIO/PdbIO.py:322: BiopythonParserWarning: 'HEADER' line not found; can't determine PDB ID.\n",
      "  warnings.warn(\n",
      "/home/folivieri/.conda/envs/prosculpt/lib/python3.12/site-packages/Bio/SeqIO/PdbIO.py:322: BiopythonParserWarning: 'HEADER' line not found; can't determine PDB ID.\n",
      "  warnings.warn(\n",
      "/home/folivieri/.conda/envs/prosculpt/lib/python3.12/site-packages/Bio/SeqIO/PdbIO.py:322: BiopythonParserWarning: 'HEADER' line not found; can't determine PDB ID.\n",
      "  warnings.warn(\n",
      "/home/folivieri/.conda/envs/prosculpt/lib/python3.12/site-packages/Bio/SeqIO/PdbIO.py:322: BiopythonParserWarning: 'HEADER' line not found; can't determine PDB ID.\n",
      "  warnings.warn(\n",
      "/home/folivieri/.conda/envs/prosculpt/lib/python3.12/site-packages/Bio/SeqIO/PdbIO.py:322: BiopythonParserWarning: 'HEADER' line not found; can't determine PDB ID.\n",
      "  warnings.warn(\n"
     ]
    },
    {
     "name": "stdout",
     "output_type": "stream",
     "text": [
      "/home/d12-studenti/Marc/GLP1R/Day3-Fixed/pooled_best_pdbs/1.52.3.1__link_72__plddt_94__plddt_sculpted_97__rmsd_1.5__rmsd_sculpted_3.1__rmsd_fixedchains_1.0__rmsd_motif_-1__pae_4.59__out_01_.pdb\n",
      "/home/d12-studenti/Marc/GLP1R/Day3-Fixed/pooled_best_pdbs/4.41.4.1__link_82__plddt_83__plddt_sculpted_85__rmsd_1.4__rmsd_sculpted_2.5__rmsd_fixedchains_0.9__rmsd_motif_-1__pae_10.19__out_04_.pdb\n",
      "/home/d12-studenti/Marc/GLP1R/Day3-Fixed/pooled_best_pdbs/5.53.1.1__link_74__plddt_88__plddt_sculpted_88__rmsd_2.0__rmsd_sculpted_3.5__rmsd_fixedchains_0.7__rmsd_motif_-1__pae_5.78__out_05_.pdb\n",
      "/home/d12-studenti/Marc/GLP1R/Day3-Fixed/pooled_best_pdbs/1.36.2.1__link_79__plddt_85__plddt_sculpted_83__rmsd_1.4__rmsd_sculpted_3.3__rmsd_fixedchains_0.9__rmsd_motif_-1__pae_6.94__out_01_.pdb\n",
      "/home/d12-studenti/Marc/GLP1R/Day3-Fixed/pooled_best_pdbs/5.0.4.1__link_61__plddt_87__plddt_sculpted_86__rmsd_2.0__rmsd_sculpted_4.0__rmsd_fixedchains_0.9__rmsd_motif_-1__pae_7.81__out_05_.pdb\n",
      "/home/d12-studenti/Marc/GLP1R/Day3-Fixed/pooled_best_pdbs/5.53.2.1__link_74__plddt_86__plddt_sculpted_84__rmsd_1.9__rmsd_sculpted_3.2__rmsd_fixedchains_0.7__rmsd_motif_-1__pae_7.3__out_05_.pdb\n",
      "/home/d12-studenti/Marc/GLP1R/Day3-Fixed/pooled_best_pdbs/1.36.1.1__link_79__plddt_90__plddt_sculpted_90__rmsd_0.9__rmsd_sculpted_1.0__rmsd_fixedchains_0.9__rmsd_motif_-1__pae_5.91__out_01_.pdb\n"
     ]
    },
    {
     "name": "stderr",
     "output_type": "stream",
     "text": [
      "/home/folivieri/.conda/envs/prosculpt/lib/python3.12/site-packages/Bio/SeqIO/PdbIO.py:322: BiopythonParserWarning: 'HEADER' line not found; can't determine PDB ID.\n",
      "  warnings.warn(\n",
      "/home/folivieri/.conda/envs/prosculpt/lib/python3.12/site-packages/Bio/SeqIO/PdbIO.py:322: BiopythonParserWarning: 'HEADER' line not found; can't determine PDB ID.\n",
      "  warnings.warn(\n",
      "/home/folivieri/.conda/envs/prosculpt/lib/python3.12/site-packages/Bio/SeqIO/PdbIO.py:322: BiopythonParserWarning: 'HEADER' line not found; can't determine PDB ID.\n",
      "  warnings.warn(\n",
      "/home/folivieri/.conda/envs/prosculpt/lib/python3.12/site-packages/Bio/SeqIO/PdbIO.py:322: BiopythonParserWarning: 'HEADER' line not found; can't determine PDB ID.\n",
      "  warnings.warn(\n",
      "/home/folivieri/.conda/envs/prosculpt/lib/python3.12/site-packages/Bio/SeqIO/PdbIO.py:322: BiopythonParserWarning: 'HEADER' line not found; can't determine PDB ID.\n",
      "  warnings.warn(\n",
      "/home/folivieri/.conda/envs/prosculpt/lib/python3.12/site-packages/Bio/SeqIO/PdbIO.py:322: BiopythonParserWarning: 'HEADER' line not found; can't determine PDB ID.\n",
      "  warnings.warn(\n",
      "/home/folivieri/.conda/envs/prosculpt/lib/python3.12/site-packages/Bio/SeqIO/PdbIO.py:322: BiopythonParserWarning: 'HEADER' line not found; can't determine PDB ID.\n",
      "  warnings.warn(\n",
      "/home/folivieri/.conda/envs/prosculpt/lib/python3.12/site-packages/Bio/SeqIO/PdbIO.py:322: BiopythonParserWarning: 'HEADER' line not found; can't determine PDB ID.\n",
      "  warnings.warn(\n",
      "/home/folivieri/.conda/envs/prosculpt/lib/python3.12/site-packages/Bio/SeqIO/PdbIO.py:322: BiopythonParserWarning: 'HEADER' line not found; can't determine PDB ID.\n",
      "  warnings.warn(\n",
      "/home/folivieri/.conda/envs/prosculpt/lib/python3.12/site-packages/Bio/SeqIO/PdbIO.py:322: BiopythonParserWarning: 'HEADER' line not found; can't determine PDB ID.\n",
      "  warnings.warn(\n",
      "/home/folivieri/.conda/envs/prosculpt/lib/python3.12/site-packages/Bio/SeqIO/PdbIO.py:322: BiopythonParserWarning: 'HEADER' line not found; can't determine PDB ID.\n",
      "  warnings.warn(\n",
      "/home/folivieri/.conda/envs/prosculpt/lib/python3.12/site-packages/Bio/SeqIO/PdbIO.py:322: BiopythonParserWarning: 'HEADER' line not found; can't determine PDB ID.\n",
      "  warnings.warn(\n",
      "/home/folivieri/.conda/envs/prosculpt/lib/python3.12/site-packages/Bio/SeqIO/PdbIO.py:322: BiopythonParserWarning: 'HEADER' line not found; can't determine PDB ID.\n",
      "  warnings.warn(\n",
      "/home/folivieri/.conda/envs/prosculpt/lib/python3.12/site-packages/Bio/SeqIO/PdbIO.py:322: BiopythonParserWarning: 'HEADER' line not found; can't determine PDB ID.\n",
      "  warnings.warn(\n",
      "/home/folivieri/.conda/envs/prosculpt/lib/python3.12/site-packages/Bio/SeqIO/PdbIO.py:322: BiopythonParserWarning: 'HEADER' line not found; can't determine PDB ID.\n",
      "  warnings.warn(\n",
      "/home/folivieri/.conda/envs/prosculpt/lib/python3.12/site-packages/Bio/SeqIO/PdbIO.py:322: BiopythonParserWarning: 'HEADER' line not found; can't determine PDB ID.\n",
      "  warnings.warn(\n",
      "/home/folivieri/.conda/envs/prosculpt/lib/python3.12/site-packages/Bio/SeqIO/PdbIO.py:322: BiopythonParserWarning: 'HEADER' line not found; can't determine PDB ID.\n",
      "  warnings.warn(\n",
      "/home/folivieri/.conda/envs/prosculpt/lib/python3.12/site-packages/Bio/SeqIO/PdbIO.py:322: BiopythonParserWarning: 'HEADER' line not found; can't determine PDB ID.\n",
      "  warnings.warn(\n",
      "/home/folivieri/.conda/envs/prosculpt/lib/python3.12/site-packages/Bio/SeqIO/PdbIO.py:322: BiopythonParserWarning: 'HEADER' line not found; can't determine PDB ID.\n",
      "  warnings.warn(\n",
      "/home/folivieri/.conda/envs/prosculpt/lib/python3.12/site-packages/Bio/SeqIO/PdbIO.py:322: BiopythonParserWarning: 'HEADER' line not found; can't determine PDB ID.\n",
      "  warnings.warn(\n"
     ]
    },
    {
     "name": "stdout",
     "output_type": "stream",
     "text": [
      "/home/d12-studenti/Marc/GLP1R/Day3-Fixed/pooled_best_pdbs/4.16.5.1__link_84__plddt_86__plddt_sculpted_85__rmsd_1.4__rmsd_sculpted_2.6__rmsd_fixedchains_0.8__rmsd_motif_-1__pae_6.52__out_04_.pdb\n",
      "/home/d12-studenti/Marc/GLP1R/Day3-Fixed/pooled_best_pdbs/5.35.2.1__link_74__plddt_90__plddt_sculpted_90__rmsd_1.5__rmsd_sculpted_3.8__rmsd_fixedchains_1.0__rmsd_motif_-1__pae_5.63__out_05_.pdb\n",
      "/home/d12-studenti/Marc/GLP1R/Day3-Fixed/pooled_best_pdbs/4.2.5.1__link_83__plddt_91__plddt_sculpted_92__rmsd_1.6__rmsd_sculpted_3.4__rmsd_fixedchains_1.0__rmsd_motif_-1__pae_4.95__out_04_.pdb\n",
      "/home/d12-studenti/Marc/GLP1R/Day3-Fixed/pooled_best_pdbs/5.47.4.1__link_67__plddt_87__plddt_sculpted_88__rmsd_1.8__rmsd_sculpted_3.5__rmsd_fixedchains_1.1__rmsd_motif_-1__pae_6.87__out_05_.pdb\n",
      "/home/d12-studenti/Marc/GLP1R/Day3-Fixed/pooled_best_pdbs/1.52.5.1__link_72__plddt_92__plddt_sculpted_95__rmsd_1.2__rmsd_sculpted_2.2__rmsd_fixedchains_1.0__rmsd_motif_-1__pae_5.01__out_01_.pdb\n",
      "/home/d12-studenti/Marc/GLP1R/Day3-Fixed/pooled_best_pdbs/5.72.4.1__link_66__plddt_91__plddt_sculpted_95__rmsd_1.8__rmsd_sculpted_3.7__rmsd_fixedchains_1.5__rmsd_motif_-1__pae_5.02__out_05_.pdb\n",
      "/home/d12-studenti/Marc/GLP1R/Day3-Fixed/pooled_best_pdbs/5.38.2.1__link_81__plddt_94__plddt_sculpted_96__rmsd_1.4__rmsd_sculpted_2.7__rmsd_fixedchains_0.9__rmsd_motif_-1__pae_4.98__out_05_.pdb\n",
      "/home/d12-studenti/Marc/GLP1R/Day3-Fixed/pooled_best_pdbs/4.66.5.1__link_83__plddt_88__plddt_sculpted_87__rmsd_1.6__rmsd_sculpted_3.0__rmsd_fixedchains_0.9__rmsd_motif_-1__pae_6.08__out_04_.pdb\n",
      "/home/d12-studenti/Marc/GLP1R/Day3-Fixed/pooled_best_pdbs/1.99.3.1__link_85__plddt_83__plddt_sculpted_82__rmsd_1.6__rmsd_sculpted_3.5__rmsd_fixedchains_1.0__rmsd_motif_-1__pae_10.07__out_01_.pdb\n",
      "/home/d12-studenti/Marc/GLP1R/Day3-Fixed/pooled_best_pdbs/1.90.5.1__link_72__plddt_82__plddt_sculpted_83__rmsd_2.0__rmsd_sculpted_4.0__rmsd_fixedchains_1.0__rmsd_motif_-1__pae_8.91__out_01_.pdb\n",
      "/home/d12-studenti/Marc/GLP1R/Day3-Fixed/pooled_best_pdbs/4.23.5.1__link_89__plddt_87__plddt_sculpted_90__rmsd_1.4__rmsd_sculpted_3.5__rmsd_fixedchains_0.9__rmsd_motif_-1__pae_8.42__out_04_.pdb\n",
      "/home/d12-studenti/Marc/GLP1R/Day3-Fixed/pooled_best_pdbs/4.14.3.1__link_86__plddt_92__plddt_sculpted_95__rmsd_1.6__rmsd_sculpted_3.9__rmsd_fixedchains_1.0__rmsd_motif_-1__pae_5.54__out_04_.pdb\n",
      "/home/d12-studenti/Marc/GLP1R/Day3-Fixed/pooled_best_pdbs/5.61.1.1__link_88__plddt_89__plddt_sculpted_91__rmsd_2.0__rmsd_sculpted_3.2__rmsd_fixedchains_0.9__rmsd_motif_-1__pae_5.34__out_05_.pdb\n",
      "/home/d12-studenti/Marc/GLP1R/Day3-Fixed/pooled_best_pdbs/4.93.3.1__link_89__plddt_89__plddt_sculpted_89__rmsd_1.3__rmsd_sculpted_3.1__rmsd_fixedchains_1.0__rmsd_motif_-1__pae_5.42__out_04_.pdb\n",
      "/home/d12-studenti/Marc/GLP1R/Day3-Fixed/pooled_best_pdbs/4.16.4.1__link_84__plddt_82__plddt_sculpted_82__rmsd_1.3__rmsd_sculpted_2.2__rmsd_fixedchains_0.9__rmsd_motif_-1__pae_9.04__out_04_.pdb\n",
      "/home/d12-studenti/Marc/GLP1R/Day3-Fixed/pooled_best_pdbs/4.2.4.1__link_83__plddt_89__plddt_sculpted_88__rmsd_1.3__rmsd_sculpted_2.9__rmsd_fixedchains_0.9__rmsd_motif_-1__pae_5.53__out_04_.pdb\n",
      "/home/d12-studenti/Marc/GLP1R/Day3-Fixed/pooled_best_pdbs/4.54.3.1__link_73__plddt_90__plddt_sculpted_90__rmsd_1.2__rmsd_sculpted_1.8__rmsd_fixedchains_1.0__rmsd_motif_-1__pae_5.17__out_04_.pdb\n",
      "/home/d12-studenti/Marc/GLP1R/Day3-Fixed/pooled_best_pdbs/1.52.3.1__link_72__plddt_94__plddt_sculpted_97__rmsd_1.5__rmsd_sculpted_3.1__rmsd_fixedchains_1.0__rmsd_motif_-1__pae_4.59__out_01_.pdb\n",
      "/home/d12-studenti/Marc/GLP1R/Day3-Fixed/pooled_best_pdbs/4.41.4.1__link_82__plddt_83__plddt_sculpted_85__rmsd_1.4__rmsd_sculpted_2.5__rmsd_fixedchains_0.9__rmsd_motif_-1__pae_10.19__out_04_.pdb\n"
     ]
    },
    {
     "name": "stderr",
     "output_type": "stream",
     "text": [
      "/home/folivieri/.conda/envs/prosculpt/lib/python3.12/site-packages/Bio/SeqIO/PdbIO.py:322: BiopythonParserWarning: 'HEADER' line not found; can't determine PDB ID.\n",
      "  warnings.warn(\n",
      "/home/folivieri/.conda/envs/prosculpt/lib/python3.12/site-packages/Bio/SeqIO/PdbIO.py:322: BiopythonParserWarning: 'HEADER' line not found; can't determine PDB ID.\n",
      "  warnings.warn(\n",
      "/home/folivieri/.conda/envs/prosculpt/lib/python3.12/site-packages/Bio/SeqIO/PdbIO.py:322: BiopythonParserWarning: 'HEADER' line not found; can't determine PDB ID.\n",
      "  warnings.warn(\n",
      "/home/folivieri/.conda/envs/prosculpt/lib/python3.12/site-packages/Bio/SeqIO/PdbIO.py:322: BiopythonParserWarning: 'HEADER' line not found; can't determine PDB ID.\n",
      "  warnings.warn(\n",
      "/home/folivieri/.conda/envs/prosculpt/lib/python3.12/site-packages/Bio/SeqIO/PdbIO.py:322: BiopythonParserWarning: 'HEADER' line not found; can't determine PDB ID.\n",
      "  warnings.warn(\n",
      "/home/folivieri/.conda/envs/prosculpt/lib/python3.12/site-packages/Bio/SeqIO/PdbIO.py:322: BiopythonParserWarning: 'HEADER' line not found; can't determine PDB ID.\n",
      "  warnings.warn(\n"
     ]
    }
   ],
   "source": [
    "# Generate a Fasta\n",
    "\n",
    "from Bio import SeqIO\n",
    "\n",
    "pdb_list = glob.glob(pooled_folder + \"/*.pdb\")\n",
    "\n",
    "with open(os.path.join(pooled_folder, \"sequences.fasta\"), \"w+\") as f:\n",
    "    f.write(\"# --amber\\n\")\n",
    "    for pdb in pdb_list:\n",
    "        f.write(f\">{pdb}\\n\")\n",
    "        print(pdb)\n",
    "        seq = \"\"\n",
    "        for record in SeqIO.parse(os.path.join(pooled_folder, pdb), \"pdb-atom\"):\n",
    "            seq += str(record.seq)\n",
    "            seq += \":\"\n",
    "\n",
    "        seq = seq[:-1]  # delete last \":\"\n",
    "        seq += \"\\n\"\n",
    "        f.write(seq)\n",
    "\n",
    "\n",
    "chains = [0]\n",
    "with open(os.path.join(pooled_folder, \"sequences_monomer.fasta\"), \"w+\") as f:\n",
    "    f.write(\"# --amber\\n\")\n",
    "    for pdb in pdb_list:\n",
    "        f.write(f\">{pdb}\\n\")\n",
    "        print(pdb)\n",
    "        seq = \"\"\n",
    "        chain_n = 0\n",
    "        for record in SeqIO.parse(os.path.join(pooled_folder, pdb), \"pdb-atom\"):\n",
    "            if chain_n in chains:\n",
    "                seq += str(record.seq)\n",
    "                seq += \":\"\n",
    "            chain_n += 1\n",
    "\n",
    "        seq = seq[:-1]  # delete last \":\"\n",
    "        seq += \"\\n\"\n",
    "        f.write(seq)"
   ]
  },
  {
   "cell_type": "code",
   "execution_count": null,
   "metadata": {},
   "outputs": [
    {
     "ename": "FileNotFoundError",
     "evalue": "[Errno 2] No such file or directory: '/home/d12-studenti/Marc/GLP1R/Day3-Fixed/pooled_best_pdbs/rosetta.csv'",
     "output_type": "error",
     "traceback": [
      "\u001b[0;31m---------------------------------------------------------------------------\u001b[0m",
      "\u001b[0;31mFileNotFoundError\u001b[0m                         Traceback (most recent call last)",
      "Cell \u001b[0;32mIn[9], line 13\u001b[0m\n\u001b[1;32m     10\u001b[0m     \u001b[38;5;66;03m#pm.exists()\u001b[39;00m\n\u001b[1;32m     11\u001b[0m     \u001b[38;5;28;01mreturn\u001b[39;00m \u001b[38;5;28mstr\u001b[39m(pm)\n\u001b[0;32m---> 13\u001b[0m df \u001b[38;5;241m=\u001b[39m \u001b[43mpd\u001b[49m\u001b[38;5;241;43m.\u001b[39;49m\u001b[43mread_csv\u001b[49m\u001b[43m(\u001b[49m\u001b[43mrosetta_csv_path\u001b[49m\u001b[43m,\u001b[49m\u001b[43m \u001b[49m\u001b[43mindex_col\u001b[49m\u001b[38;5;241;43m=\u001b[39;49m\u001b[38;5;124;43m'\u001b[39;49m\u001b[38;5;124;43mID\u001b[39;49m\u001b[38;5;124;43m'\u001b[39;49m\u001b[43m)\u001b[49m\n\u001b[1;32m     14\u001b[0m df_prosculpt\u001b[38;5;241m=\u001b[39m pd\u001b[38;5;241m.\u001b[39mread_csv(prosculpt_csv_path)\n\u001b[1;32m     15\u001b[0m filtered_path\u001b[38;5;241m=\u001b[39mos\u001b[38;5;241m.\u001b[39mpath\u001b[38;5;241m.\u001b[39mjoin(pooled_folder,\u001b[38;5;124m\"\u001b[39m\u001b[38;5;124mfiltered\u001b[39m\u001b[38;5;124m\"\u001b[39m)\n",
      "File \u001b[0;32m/home/folivieri/.conda/envs/prosculpt/lib/python3.12/site-packages/pandas/io/parsers/readers.py:948\u001b[0m, in \u001b[0;36mread_csv\u001b[0;34m(filepath_or_buffer, sep, delimiter, header, names, index_col, usecols, dtype, engine, converters, true_values, false_values, skipinitialspace, skiprows, skipfooter, nrows, na_values, keep_default_na, na_filter, verbose, skip_blank_lines, parse_dates, infer_datetime_format, keep_date_col, date_parser, date_format, dayfirst, cache_dates, iterator, chunksize, compression, thousands, decimal, lineterminator, quotechar, quoting, doublequote, escapechar, comment, encoding, encoding_errors, dialect, on_bad_lines, delim_whitespace, low_memory, memory_map, float_precision, storage_options, dtype_backend)\u001b[0m\n\u001b[1;32m    935\u001b[0m kwds_defaults \u001b[38;5;241m=\u001b[39m _refine_defaults_read(\n\u001b[1;32m    936\u001b[0m     dialect,\n\u001b[1;32m    937\u001b[0m     delimiter,\n\u001b[0;32m   (...)\u001b[0m\n\u001b[1;32m    944\u001b[0m     dtype_backend\u001b[38;5;241m=\u001b[39mdtype_backend,\n\u001b[1;32m    945\u001b[0m )\n\u001b[1;32m    946\u001b[0m kwds\u001b[38;5;241m.\u001b[39mupdate(kwds_defaults)\n\u001b[0;32m--> 948\u001b[0m \u001b[38;5;28;01mreturn\u001b[39;00m \u001b[43m_read\u001b[49m\u001b[43m(\u001b[49m\u001b[43mfilepath_or_buffer\u001b[49m\u001b[43m,\u001b[49m\u001b[43m \u001b[49m\u001b[43mkwds\u001b[49m\u001b[43m)\u001b[49m\n",
      "File \u001b[0;32m/home/folivieri/.conda/envs/prosculpt/lib/python3.12/site-packages/pandas/io/parsers/readers.py:611\u001b[0m, in \u001b[0;36m_read\u001b[0;34m(filepath_or_buffer, kwds)\u001b[0m\n\u001b[1;32m    608\u001b[0m _validate_names(kwds\u001b[38;5;241m.\u001b[39mget(\u001b[38;5;124m\"\u001b[39m\u001b[38;5;124mnames\u001b[39m\u001b[38;5;124m\"\u001b[39m, \u001b[38;5;28;01mNone\u001b[39;00m))\n\u001b[1;32m    610\u001b[0m \u001b[38;5;66;03m# Create the parser.\u001b[39;00m\n\u001b[0;32m--> 611\u001b[0m parser \u001b[38;5;241m=\u001b[39m \u001b[43mTextFileReader\u001b[49m\u001b[43m(\u001b[49m\u001b[43mfilepath_or_buffer\u001b[49m\u001b[43m,\u001b[49m\u001b[43m \u001b[49m\u001b[38;5;241;43m*\u001b[39;49m\u001b[38;5;241;43m*\u001b[39;49m\u001b[43mkwds\u001b[49m\u001b[43m)\u001b[49m\n\u001b[1;32m    613\u001b[0m \u001b[38;5;28;01mif\u001b[39;00m chunksize \u001b[38;5;129;01mor\u001b[39;00m iterator:\n\u001b[1;32m    614\u001b[0m     \u001b[38;5;28;01mreturn\u001b[39;00m parser\n",
      "File \u001b[0;32m/home/folivieri/.conda/envs/prosculpt/lib/python3.12/site-packages/pandas/io/parsers/readers.py:1448\u001b[0m, in \u001b[0;36mTextFileReader.__init__\u001b[0;34m(self, f, engine, **kwds)\u001b[0m\n\u001b[1;32m   1445\u001b[0m     \u001b[38;5;28mself\u001b[39m\u001b[38;5;241m.\u001b[39moptions[\u001b[38;5;124m\"\u001b[39m\u001b[38;5;124mhas_index_names\u001b[39m\u001b[38;5;124m\"\u001b[39m] \u001b[38;5;241m=\u001b[39m kwds[\u001b[38;5;124m\"\u001b[39m\u001b[38;5;124mhas_index_names\u001b[39m\u001b[38;5;124m\"\u001b[39m]\n\u001b[1;32m   1447\u001b[0m \u001b[38;5;28mself\u001b[39m\u001b[38;5;241m.\u001b[39mhandles: IOHandles \u001b[38;5;241m|\u001b[39m \u001b[38;5;28;01mNone\u001b[39;00m \u001b[38;5;241m=\u001b[39m \u001b[38;5;28;01mNone\u001b[39;00m\n\u001b[0;32m-> 1448\u001b[0m \u001b[38;5;28mself\u001b[39m\u001b[38;5;241m.\u001b[39m_engine \u001b[38;5;241m=\u001b[39m \u001b[38;5;28;43mself\u001b[39;49m\u001b[38;5;241;43m.\u001b[39;49m\u001b[43m_make_engine\u001b[49m\u001b[43m(\u001b[49m\u001b[43mf\u001b[49m\u001b[43m,\u001b[49m\u001b[43m \u001b[49m\u001b[38;5;28;43mself\u001b[39;49m\u001b[38;5;241;43m.\u001b[39;49m\u001b[43mengine\u001b[49m\u001b[43m)\u001b[49m\n",
      "File \u001b[0;32m/home/folivieri/.conda/envs/prosculpt/lib/python3.12/site-packages/pandas/io/parsers/readers.py:1705\u001b[0m, in \u001b[0;36mTextFileReader._make_engine\u001b[0;34m(self, f, engine)\u001b[0m\n\u001b[1;32m   1703\u001b[0m     \u001b[38;5;28;01mif\u001b[39;00m \u001b[38;5;124m\"\u001b[39m\u001b[38;5;124mb\u001b[39m\u001b[38;5;124m\"\u001b[39m \u001b[38;5;129;01mnot\u001b[39;00m \u001b[38;5;129;01min\u001b[39;00m mode:\n\u001b[1;32m   1704\u001b[0m         mode \u001b[38;5;241m+\u001b[39m\u001b[38;5;241m=\u001b[39m \u001b[38;5;124m\"\u001b[39m\u001b[38;5;124mb\u001b[39m\u001b[38;5;124m\"\u001b[39m\n\u001b[0;32m-> 1705\u001b[0m \u001b[38;5;28mself\u001b[39m\u001b[38;5;241m.\u001b[39mhandles \u001b[38;5;241m=\u001b[39m \u001b[43mget_handle\u001b[49m\u001b[43m(\u001b[49m\n\u001b[1;32m   1706\u001b[0m \u001b[43m    \u001b[49m\u001b[43mf\u001b[49m\u001b[43m,\u001b[49m\n\u001b[1;32m   1707\u001b[0m \u001b[43m    \u001b[49m\u001b[43mmode\u001b[49m\u001b[43m,\u001b[49m\n\u001b[1;32m   1708\u001b[0m \u001b[43m    \u001b[49m\u001b[43mencoding\u001b[49m\u001b[38;5;241;43m=\u001b[39;49m\u001b[38;5;28;43mself\u001b[39;49m\u001b[38;5;241;43m.\u001b[39;49m\u001b[43moptions\u001b[49m\u001b[38;5;241;43m.\u001b[39;49m\u001b[43mget\u001b[49m\u001b[43m(\u001b[49m\u001b[38;5;124;43m\"\u001b[39;49m\u001b[38;5;124;43mencoding\u001b[39;49m\u001b[38;5;124;43m\"\u001b[39;49m\u001b[43m,\u001b[49m\u001b[43m \u001b[49m\u001b[38;5;28;43;01mNone\u001b[39;49;00m\u001b[43m)\u001b[49m\u001b[43m,\u001b[49m\n\u001b[1;32m   1709\u001b[0m \u001b[43m    \u001b[49m\u001b[43mcompression\u001b[49m\u001b[38;5;241;43m=\u001b[39;49m\u001b[38;5;28;43mself\u001b[39;49m\u001b[38;5;241;43m.\u001b[39;49m\u001b[43moptions\u001b[49m\u001b[38;5;241;43m.\u001b[39;49m\u001b[43mget\u001b[49m\u001b[43m(\u001b[49m\u001b[38;5;124;43m\"\u001b[39;49m\u001b[38;5;124;43mcompression\u001b[39;49m\u001b[38;5;124;43m\"\u001b[39;49m\u001b[43m,\u001b[49m\u001b[43m \u001b[49m\u001b[38;5;28;43;01mNone\u001b[39;49;00m\u001b[43m)\u001b[49m\u001b[43m,\u001b[49m\n\u001b[1;32m   1710\u001b[0m \u001b[43m    \u001b[49m\u001b[43mmemory_map\u001b[49m\u001b[38;5;241;43m=\u001b[39;49m\u001b[38;5;28;43mself\u001b[39;49m\u001b[38;5;241;43m.\u001b[39;49m\u001b[43moptions\u001b[49m\u001b[38;5;241;43m.\u001b[39;49m\u001b[43mget\u001b[49m\u001b[43m(\u001b[49m\u001b[38;5;124;43m\"\u001b[39;49m\u001b[38;5;124;43mmemory_map\u001b[39;49m\u001b[38;5;124;43m\"\u001b[39;49m\u001b[43m,\u001b[49m\u001b[43m \u001b[49m\u001b[38;5;28;43;01mFalse\u001b[39;49;00m\u001b[43m)\u001b[49m\u001b[43m,\u001b[49m\n\u001b[1;32m   1711\u001b[0m \u001b[43m    \u001b[49m\u001b[43mis_text\u001b[49m\u001b[38;5;241;43m=\u001b[39;49m\u001b[43mis_text\u001b[49m\u001b[43m,\u001b[49m\n\u001b[1;32m   1712\u001b[0m \u001b[43m    \u001b[49m\u001b[43merrors\u001b[49m\u001b[38;5;241;43m=\u001b[39;49m\u001b[38;5;28;43mself\u001b[39;49m\u001b[38;5;241;43m.\u001b[39;49m\u001b[43moptions\u001b[49m\u001b[38;5;241;43m.\u001b[39;49m\u001b[43mget\u001b[49m\u001b[43m(\u001b[49m\u001b[38;5;124;43m\"\u001b[39;49m\u001b[38;5;124;43mencoding_errors\u001b[39;49m\u001b[38;5;124;43m\"\u001b[39;49m\u001b[43m,\u001b[49m\u001b[43m \u001b[49m\u001b[38;5;124;43m\"\u001b[39;49m\u001b[38;5;124;43mstrict\u001b[39;49m\u001b[38;5;124;43m\"\u001b[39;49m\u001b[43m)\u001b[49m\u001b[43m,\u001b[49m\n\u001b[1;32m   1713\u001b[0m \u001b[43m    \u001b[49m\u001b[43mstorage_options\u001b[49m\u001b[38;5;241;43m=\u001b[39;49m\u001b[38;5;28;43mself\u001b[39;49m\u001b[38;5;241;43m.\u001b[39;49m\u001b[43moptions\u001b[49m\u001b[38;5;241;43m.\u001b[39;49m\u001b[43mget\u001b[49m\u001b[43m(\u001b[49m\u001b[38;5;124;43m\"\u001b[39;49m\u001b[38;5;124;43mstorage_options\u001b[39;49m\u001b[38;5;124;43m\"\u001b[39;49m\u001b[43m,\u001b[49m\u001b[43m \u001b[49m\u001b[38;5;28;43;01mNone\u001b[39;49;00m\u001b[43m)\u001b[49m\u001b[43m,\u001b[49m\n\u001b[1;32m   1714\u001b[0m \u001b[43m\u001b[49m\u001b[43m)\u001b[49m\n\u001b[1;32m   1715\u001b[0m \u001b[38;5;28;01massert\u001b[39;00m \u001b[38;5;28mself\u001b[39m\u001b[38;5;241m.\u001b[39mhandles \u001b[38;5;129;01mis\u001b[39;00m \u001b[38;5;129;01mnot\u001b[39;00m \u001b[38;5;28;01mNone\u001b[39;00m\n\u001b[1;32m   1716\u001b[0m f \u001b[38;5;241m=\u001b[39m \u001b[38;5;28mself\u001b[39m\u001b[38;5;241m.\u001b[39mhandles\u001b[38;5;241m.\u001b[39mhandle\n",
      "File \u001b[0;32m/home/folivieri/.conda/envs/prosculpt/lib/python3.12/site-packages/pandas/io/common.py:863\u001b[0m, in \u001b[0;36mget_handle\u001b[0;34m(path_or_buf, mode, encoding, compression, memory_map, is_text, errors, storage_options)\u001b[0m\n\u001b[1;32m    858\u001b[0m \u001b[38;5;28;01melif\u001b[39;00m \u001b[38;5;28misinstance\u001b[39m(handle, \u001b[38;5;28mstr\u001b[39m):\n\u001b[1;32m    859\u001b[0m     \u001b[38;5;66;03m# Check whether the filename is to be opened in binary mode.\u001b[39;00m\n\u001b[1;32m    860\u001b[0m     \u001b[38;5;66;03m# Binary mode does not support 'encoding' and 'newline'.\u001b[39;00m\n\u001b[1;32m    861\u001b[0m     \u001b[38;5;28;01mif\u001b[39;00m ioargs\u001b[38;5;241m.\u001b[39mencoding \u001b[38;5;129;01mand\u001b[39;00m \u001b[38;5;124m\"\u001b[39m\u001b[38;5;124mb\u001b[39m\u001b[38;5;124m\"\u001b[39m \u001b[38;5;129;01mnot\u001b[39;00m \u001b[38;5;129;01min\u001b[39;00m ioargs\u001b[38;5;241m.\u001b[39mmode:\n\u001b[1;32m    862\u001b[0m         \u001b[38;5;66;03m# Encoding\u001b[39;00m\n\u001b[0;32m--> 863\u001b[0m         handle \u001b[38;5;241m=\u001b[39m \u001b[38;5;28;43mopen\u001b[39;49m\u001b[43m(\u001b[49m\n\u001b[1;32m    864\u001b[0m \u001b[43m            \u001b[49m\u001b[43mhandle\u001b[49m\u001b[43m,\u001b[49m\n\u001b[1;32m    865\u001b[0m \u001b[43m            \u001b[49m\u001b[43mioargs\u001b[49m\u001b[38;5;241;43m.\u001b[39;49m\u001b[43mmode\u001b[49m\u001b[43m,\u001b[49m\n\u001b[1;32m    866\u001b[0m \u001b[43m            \u001b[49m\u001b[43mencoding\u001b[49m\u001b[38;5;241;43m=\u001b[39;49m\u001b[43mioargs\u001b[49m\u001b[38;5;241;43m.\u001b[39;49m\u001b[43mencoding\u001b[49m\u001b[43m,\u001b[49m\n\u001b[1;32m    867\u001b[0m \u001b[43m            \u001b[49m\u001b[43merrors\u001b[49m\u001b[38;5;241;43m=\u001b[39;49m\u001b[43merrors\u001b[49m\u001b[43m,\u001b[49m\n\u001b[1;32m    868\u001b[0m \u001b[43m            \u001b[49m\u001b[43mnewline\u001b[49m\u001b[38;5;241;43m=\u001b[39;49m\u001b[38;5;124;43m\"\u001b[39;49m\u001b[38;5;124;43m\"\u001b[39;49m\u001b[43m,\u001b[49m\n\u001b[1;32m    869\u001b[0m \u001b[43m        \u001b[49m\u001b[43m)\u001b[49m\n\u001b[1;32m    870\u001b[0m     \u001b[38;5;28;01melse\u001b[39;00m:\n\u001b[1;32m    871\u001b[0m         \u001b[38;5;66;03m# Binary mode\u001b[39;00m\n\u001b[1;32m    872\u001b[0m         handle \u001b[38;5;241m=\u001b[39m \u001b[38;5;28mopen\u001b[39m(handle, ioargs\u001b[38;5;241m.\u001b[39mmode)\n",
      "\u001b[0;31mFileNotFoundError\u001b[0m: [Errno 2] No such file or directory: '/home/d12-studenti/Marc/GLP1R/Day3-Fixed/pooled_best_pdbs/rosetta.csv'"
     ]
    }
   ],
   "source": [
    "# pooled_folder=os.path.join(folder,\"pooled_best_pdbs\")\n",
    "pooled_folder = os.path.join(folder)\n",
    "prosculpt_csv_path = os.path.join(pooled_folder, \"prosculpt_metrics.csv\")\n",
    "rosetta_csv_path = os.path.join(pooled_folder, \"rosetta.csv\")\n",
    "\n",
    "\n",
    "def get_monomer_path(af2_path):\n",
    "    p = pathlib.Path(af2_path)\n",
    "    pm = p.parent / \"monomers\" / (\"monomer_\" + p.name)\n",
    "    # pm.exists()\n",
    "    return str(pm)\n",
    "\n",
    "\n",
    "df = pd.read_csv(rosetta_csv_path, index_col=\"ID\")\n",
    "df_prosculpt = pd.read_csv(prosculpt_csv_path)\n",
    "filtered_path = os.path.join(pooled_folder, \"filtered\")\n",
    "# df.drop(columns=['Unnamed: 0'], inplace=True)\n",
    "\n",
    "df[\"file_name\"] = df.index\n",
    "\n",
    "df = pd.merge(df, df_prosculpt, how=\"outer\", on=[\"file_name\"])\n",
    "new_order = [\"file_name\"] + [col for col in df.columns if col != \"file_name\"]\n",
    "df = df[new_order]\n",
    "\n",
    "\n",
    "def get_new_path(filtered_path, file_name):\n",
    "    return os.path.join(filtered_path, file_name)\n",
    "\n",
    "\n",
    "df[\"model_path\"] = df.apply(\n",
    "    lambda x: get_new_path(filtered_path, x[\"file_name\"]), axis=1\n",
    ")\n",
    "\n",
    "print(df)\n",
    "interesting_cols = [\n",
    "    \"file_name\",\n",
    "    \"plddt\",\n",
    "    \"plddt_sculpted\",\n",
    "    \"pae\",\n",
    "    \"chargeA\",\n",
    "    \"sap_score\",\n",
    "    \"ddg\",\n",
    "    \"sc2\",\n",
    "    \"vbuns\",\n",
    "    \"sbuns\",\n",
    "    \"RMSD\",\n",
    "    \"RMSD_fixed_chains\",\n",
    "    \"RMSD_motif\",\n",
    "]\n",
    "\n",
    "if pathlib.Path(filtered_path).exists() and pathlib.Path(filtered_path).is_dir():\n",
    "    shutil.rmtree(pathlib.Path(filtered_path))\n",
    "os.makedirs(filtered_path, exist_ok=True)\n",
    "\n",
    "dfq = df.query(\"plddt>70\").sort_values(by=\"plddt\", ascending=False)\n",
    "# dfq = df.query('plddt_sculpted>80').sort_values(by='plddt_sculpted', ascending=False)\n",
    "dfq = dfq.query(\"ddg<-46\").sort_values(by=\"ddg\", ascending=False)\n",
    "# dfq = dfq.query('sc2>0.595').sort_values(by='sc2', ascending=False)\n",
    "# dfq = dfq.query('vbuns<10').sort_values(by='vbuns', ascending=False)\n",
    "# dfq = dfq.query('chargeA<-2').sort_values(by='chargeA', ascending=False)\n",
    "dfq = dfq.query(\"RMSD_motif<=5\").sort_values(by=\"RMSD_motif\", ascending=False)\n",
    "\n",
    "# dfq = dfq.query('ddg>-70').sort_values(by='ddg', ascending=False)\n",
    "\n",
    "print(dfq[interesting_cols])\n",
    "\n",
    "for index, row in dfq.iterrows():\n",
    "    shutil.copy(\n",
    "        os.path.join(pooled_folder, \"minimized\", row[\"file_name\"]), filtered_path\n",
    "    )\n",
    "\n",
    "dfq.to_csv(os.path.join(filtered_path, \"rosetta_metrics_selected.csv\"))\n",
    "dfs = dfq[[\"plddt_sculpted\", \"sc2\", \"ddg\", \"RMSD_motif\"]]\n",
    "sns.pairplot(dfs)"
   ]
  }
 ],
 "metadata": {
  "kernelspec": {
   "display_name": "Python 3",
   "language": "python",
   "name": "python3"
  },
  "language_info": {
   "codemirror_mode": {
    "name": "ipython",
    "version": 3
   },
   "file_extension": ".py",
   "mimetype": "text/x-python",
   "name": "python",
   "nbconvert_exporter": "python",
   "pygments_lexer": "ipython3",
   "version": "3.12.1"
  }
 },
 "nbformat": 4,
 "nbformat_minor": 2
}
