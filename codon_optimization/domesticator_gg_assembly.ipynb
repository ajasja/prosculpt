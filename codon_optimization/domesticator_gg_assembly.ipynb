{
 "cells": [
  {
   "cell_type": "code",
   "execution_count": null,
   "metadata": {},
   "outputs": [],
   "source": [
    "%load_ext autoreload\n",
    "%autoreload 2\n",
    "\n",
    "import os; print(os.getcwd())\n",
    "import socket; print(socket.gethostname())\n",
    "\n",
    "from glob import glob\n",
    "import Bio\n",
    "from Bio import SeqIO\n",
    "from Bio.SeqRecord import SeqRecord\n",
    "from Bio.Seq import Seq\n",
    "import numpy as np\n",
    "import pandas as pd\n",
    "\n",
    "import dnacauldron as dc\n",
    "import seq_analysis\n",
    "import re"
   ]
  },
  {
   "cell_type": "code",
   "execution_count": null,
   "metadata": {},
   "outputs": [],
   "source": [
    "!/home/aljubetic/conda/envs/domesticator3/bin/python  /home/aljubetic/gits/domesticator3/domesticator3 --no_idt --help"
   ]
  },
  {
   "cell_type": "code",
   "execution_count": null,
   "metadata": {},
   "outputs": [],
   "source": [
    "prosculpt_dir = os.getcwd()\n",
    "\n",
    "#working directory for codon optimization\n",
    "base_dir = '/home/akonstantinova/projects/2025/2025_06_30_round3_domesticator' \n",
    "out_dir = base_dir+'/out/'\n",
    "fasta_file = base_dir + '/proteins.fasta'\n",
    "\n",
    "#vector file used for codon optimization\n",
    "vector_file= prosculpt_dir + '/ggv2.gb'\n",
    "\n",
    "#vectors for running golden gate\n",
    "vectors_path = prosculpt_dir + '/golden_gate_vectors'\n",
    "insert_path = out_dir + 'order.dna.fasta'"
   ]
  },
  {
   "cell_type": "code",
   "execution_count": null,
   "metadata": {},
   "outputs": [],
   "source": [
    "if not os.path.exists(out_dir):\n",
    "    os.system(f'mkdir -v {out_dir}')\n",
    "\n",
    "os.chdir(out_dir)\n",
    "cmd = f'/home/aljubetic/conda/envs/domesticator3/bin/python  /home/aljubetic/gits/domesticator3/domesticator3  {fasta_file} {vector_file} --nstruct 10 --no_idt'\n",
    "print(cmd)\n",
    "os.system(cmd)\n"
   ]
  },
  {
   "cell_type": "code",
   "execution_count": null,
   "metadata": {},
   "outputs": [],
   "source": [
    "def create_assembly(vector, insert):\n",
    "    repository = dc.SequenceRepository(collections={\"parts\": {vector.id: vector, insert.id: insert}})\n",
    "    assembly = dc.Type2sRestrictionAssembly(parts=[vector.id, insert.id], enzyme='BsaI')\n",
    "    simulation = assembly.simulate(sequence_repository=repository)\n",
    "    assembly_record = simulation.construct_records[0]\n",
    "    assembly_record.name = insert.id+'_'+vector.id\n",
    "    return assembly_record\n",
    "\n",
    "def create_translation(assembly_record):\n",
    "    #translation\n",
    "    fullseq  = assembly_record.seq\n",
    "\n",
    "    #search for T7 in the full sequence and rearrange the sequence to avoid cutting the transcript\n",
    "    t7 = 'taatacgactcactataggggaattgtgagcggataacaattcccctctagaaataattttgtttaactttaagaaggagatatacat'.upper()\n",
    "\n",
    "    #check that t7 is only in the sequence once\n",
    "    instances = [m.end() for m in re.finditer(t7, str(fullseq))]\n",
    "    if len(instances)>1:\n",
    "        raise Exception('t7 in the sequence more than once, might cause ambiguity in translation')\n",
    "\n",
    "    t7_end = instances[0]\n",
    "\n",
    "    fullseq = fullseq[t7_end:]+fullseq[:t7_end]\n",
    "    fullseq_aa = fullseq.translate()\n",
    "    stop_codon = fullseq_aa.find('*')\n",
    "    good_aa = fullseq_aa[:stop_codon]\n",
    "    good_dna = fullseq[:stop_codon*3]\n",
    "    return good_aa, good_dna\n",
    "\n",
    "def get_properties(good_aa, assembly_record):\n",
    "    protein_properties = seq_analysis.analyse_sequence(good_aa, name = assembly_record.name)\n",
    "    return protein_properties"
   ]
  },
  {
   "cell_type": "code",
   "execution_count": null,
   "metadata": {},
   "outputs": [],
   "source": [
    "insert_list = []\n",
    "for  record in SeqIO.parse(insert_path, \"fasta\"):\n",
    "    record.annotations['topology'] = 'circular'\n",
    "    insert_list.append(record)\n",
    "\n",
    "insert_list"
   ]
  },
  {
   "cell_type": "code",
   "execution_count": null,
   "metadata": {},
   "outputs": [],
   "source": [
    "properties_list = []\n",
    "\n",
    "#either can specify a vector to clone into, or go through all vectors in the folder?\n",
    "# vectors_to_use = ['er12_pet-41a_mskek_spydersilk_16gs_agga_ccdb_ctcg_his_trp.gb']\n",
    "vectors_to_use = os.listdir(vectors_path)\n",
    "\n",
    "for vec in os.listdir(vectors_path):\n",
    "    if vec in vectors_to_use:\n",
    "        print(vec)\n",
    "        for  record in SeqIO.parse(vectors_path+'/'+vec, \"genbank\"):\n",
    "            vector = record\n",
    "            for insert in insert_list:\n",
    "                try:\n",
    "                    assembly_record = create_assembly(vector, insert)\n",
    "                    good_aa, good_dna = create_translation(assembly_record)\n",
    "                    print(good_aa)\n",
    "                    protein_properties= get_properties(good_aa, assembly_record)\n",
    "                    protein_properties['dna_sequence']=good_dna\n",
    "                    properties_list.append(protein_properties)\n",
    "\n",
    "                except IndexError:\n",
    "                    print('there has been an error with the assembly ', insert.id)\n",
    "                    continue\n"
   ]
  },
  {
   "cell_type": "code",
   "execution_count": null,
   "metadata": {},
   "outputs": [],
   "source": [
    "with open('assemblies_aa.fasta', 'w') as f:\n",
    "    for i in properties_list:\n",
    "        f.write(f\">{i['name']}\\n\")\n",
    "        f.write(f\"{i['sequence']}\\n\")\n",
    "\n",
    "with open('assemblies_dna.fasta', 'w') as f:\n",
    "    for i in properties_list:\n",
    "        f.write(f\">{i['name']}\\n\")\n",
    "        f.write(f\"{i['dna_sequence']}\\n\")"
   ]
  },
  {
   "cell_type": "code",
   "execution_count": null,
   "metadata": {},
   "outputs": [],
   "source": [
    "import pandas as pd\n",
    "df = pd.DataFrame.from_dict(properties_list)\n",
    "df.to_csv('protein_properties.csv', index=False)"
   ]
  },
  {
   "cell_type": "code",
   "execution_count": null,
   "metadata": {},
   "outputs": [],
   "source": [
    "#get back to the base directory \n",
    "os.chdir(base_dir)\n",
    "os.getcwd()"
   ]
  }
 ],
 "metadata": {
  "kernelspec": {
   "display_name": "base",
   "language": "python",
   "name": "python3"
  },
  "language_info": {
   "codemirror_mode": {
    "name": "ipython",
    "version": 3
   },
   "file_extension": ".py",
   "mimetype": "text/x-python",
   "name": "python",
   "nbconvert_exporter": "python",
   "pygments_lexer": "ipython3",
   "version": "3.11.8"
  }
 },
 "nbformat": 4,
 "nbformat_minor": 2
}
