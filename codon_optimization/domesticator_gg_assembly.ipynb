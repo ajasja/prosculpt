{
 "cells": [
  {
   "cell_type": "code",
   "execution_count": 1,
   "metadata": {},
   "outputs": [
    {
     "name": "stdout",
     "output_type": "stream",
     "text": [
      "/home/akonstantinova/prosculpt/codon_optimization\n",
      "headnode\n"
     ]
    }
   ],
   "source": [
    "%load_ext autoreload\n",
    "%autoreload 2\n",
    "\n",
    "import os; print(os.getcwd())\n",
    "import socket; print(socket.gethostname())\n",
    "\n",
    "from glob import glob\n",
    "import Bio\n",
    "from Bio import SeqIO\n",
    "from Bio.SeqRecord import SeqRecord\n",
    "from Bio.Seq import Seq\n",
    "import numpy as np\n",
    "import pandas as pd\n",
    "\n",
    "import dnacauldron as dc\n",
    "import seq_analysis\n",
    "import re"
   ]
  },
  {
   "cell_type": "code",
   "execution_count": 2,
   "metadata": {},
   "outputs": [
    {
     "name": "stdout",
     "output_type": "stream",
     "text": [
      "usage: domesticator3 [-h] [--single_protein_fasta] [--nstruct NSTRUCT]\n",
      "                     [--max_tries MAX_TRIES] [--no_idt]\n",
      "                     [--idt_credentials_dir IDT_CREDENTIALS_DIR]\n",
      "                     [--idt_threshold IDT_THRESHOLD] [--no_opt]\n",
      "                     [--ramp_kmers_boost RAMP_KMERS_BOOST] [--version]\n",
      "                     proteins [proteins ...] vector\n",
      "\n",
      "A sophisticated codon optimizer for the discerning protein designer\n",
      "\n",
      "positional arguments:\n",
      "  proteins              Either one or more fasta files containing one or more\n",
      "                        protein sequences or one or more pdb files\n",
      "  vector                A genbank (.gb) file containing annotations in the\n",
      "                        domesticator format to control domesticator function\n",
      "\n",
      "options:\n",
      "  -h, --help            show this help message and exit\n",
      "  --single_protein_fasta\n",
      "                        Assign increasing chain letters in the order that they\n",
      "                        appear in the file. Lettering resets between files.\n",
      "                        This is useful for multiple insertions with a fasta\n",
      "                        file\n",
      "  --nstruct NSTRUCT     number of times to repeat optimization before picking\n",
      "                        one to return. Default: 10\n",
      "  --max_tries MAX_TRIES\n",
      "                        number of times to restart optimization before giving\n",
      "                        up if no solution is found. Default: 3\n",
      "  --no_idt              Turn off complexity checking using IDT's API\n",
      "  --idt_credentials_dir IDT_CREDENTIALS_DIR\n",
      "                        A path to the place to search for you stored IDT API\n",
      "                        credentials. If no info.json file is found, then you\n",
      "                        will be prompted to enter new ones and they will be\n",
      "                        stored there\n",
      "  --idt_threshold IDT_THRESHOLD\n",
      "                        automatically accept the first solution with IDT score\n",
      "                        under this threshold\n",
      "  --no_opt              bypass the gene optimization step. Useful for\n",
      "                        debugging new vectors\n",
      "  --ramp_kmers_boost RAMP_KMERS_BOOST\n",
      "                        increase the boost of the kmers objective after each\n",
      "                        failed optimization. Default: 0.000000\n",
      "  --version             show program's version number and exit\n"
     ]
    }
   ],
   "source": [
    "!/home/aljubetic/conda/envs/domesticator3/bin/python  /home/aljubetic/gits/domesticator3/domesticator3 --no_idt --help"
   ]
  },
  {
   "cell_type": "code",
   "execution_count": null,
   "metadata": {},
   "outputs": [],
   "source": [
    "prosculpt_dir = os.getcwd()\n",
    "\n",
    "#working directory for codon optimization\n",
    "base_dir = '/home/akonstantinova/projects/2025/2025_06_30_round3_domesticator' \n",
    "out_dir = base_dir+'/out/'\n",
    "fasta_file = base_dir + '/proteins.fasta'\n",
    "\n",
    "#vector file used for codon optimization\n",
    "vector_file= prosculpt_dir + '/ggv2.gb'\n",
    "\n",
    "#vectors for running golden gate\n",
    "vectors_path = prosculpt_dir + '/golden_gate_vectors'\n",
    "insert_path = out_dir + 'order.dna.fasta'"
   ]
  },
  {
   "cell_type": "code",
   "execution_count": null,
   "metadata": {},
   "outputs": [
    {
     "name": "stdout",
     "output_type": "stream",
     "text": [
      "/home/akonstantinova/projects/2025/2025_06_30_round3_domesticator\n",
      "/home/akonstantinova/projects/2025/2025_06_30_round3_domesticator/out/\n",
      "mkdir: created directory '/home/akonstantinova/projects/2025/2025_06_30_round3_domesticator/out/'\n"
     ]
    }
   ],
   "source": [
    "if not os.path.exists(out_dir):\n",
    "    os.system(f'mkdir -v {out_dir}')\n",
    "\n",
    "os.chdir(out_dir)\n",
    "cmd = f'/home/aljubetic/conda/envs/domesticator3/bin/python  /home/aljubetic/gits/domesticator3/domesticator3  {fasta_file} {vector_file} --nstruct 10 --no_idt'\n",
    "print(cmd)\n",
    "os.system(cmd)\n"
   ]
  },
  {
   "cell_type": "code",
   "execution_count": 4,
   "metadata": {},
   "outputs": [],
   "source": [
    "def create_assembly(vector, insert):\n",
    "    repository = dc.SequenceRepository(collections={\"parts\": {vector.id: vector, insert.id: insert}})\n",
    "    assembly = dc.Type2sRestrictionAssembly(parts=[vector.id, insert.id], enzyme='BsaI')\n",
    "    simulation = assembly.simulate(sequence_repository=repository)\n",
    "    assembly_record = simulation.construct_records[0]\n",
    "    assembly_record.name = insert.id+'_'+vector.id\n",
    "    return assembly_record\n",
    "\n",
    "def create_translation(assembly_record):\n",
    "    #translation\n",
    "    fullseq  = assembly_record.seq\n",
    "\n",
    "    #search for T7 in the full sequence and rearrange the sequence to avoid cutting the transcript\n",
    "    t7 = 'taatacgactcactataggggaattgtgagcggataacaattcccctctagaaataattttgtttaactttaagaaggagatatacat'.upper()\n",
    "\n",
    "    #check that t7 is only in the sequence once\n",
    "    instances = [m.end() for m in re.finditer(t7, str(fullseq))]\n",
    "    if len(instances)>1:\n",
    "        raise Exception('t7 in the sequence more than once, might cause ambiguity in translation')\n",
    "\n",
    "    t7_end = instances[0]\n",
    "\n",
    "    fullseq = fullseq[t7_end:]+fullseq[:t7_end]\n",
    "    fullseq_aa = fullseq.translate()\n",
    "    stop_codon = fullseq_aa.find('*')\n",
    "    good_aa = fullseq_aa[:stop_codon]\n",
    "    good_dna = fullseq[:stop_codon*3]\n",
    "    return good_aa, good_dna\n",
    "\n",
    "def get_properties(good_aa, assembly_record):\n",
    "    protein_properties = seq_analysis.analyse_sequence(good_aa, name = assembly_record.name)\n",
    "    return protein_properties"
   ]
  },
  {
   "cell_type": "code",
   "execution_count": 10,
   "metadata": {},
   "outputs": [
    {
     "data": {
      "text/plain": [
       "[SeqRecord(seq=Seq('ATAATTTTGTTTAACTTTAAGAAGGAGATATACATATGGCGCGCTAGCGCGCGG...GAG'), id='6B6FN', name='6B6FN', description='6B6FN', dbxrefs=[]),\n",
       " SeqRecord(seq=Seq('ATAATTTTGTTTAACTTTAAGAAGGAGATATACATATGGCGCGCTAGCGCGCGG...GAG'), id='7HN5G', name='7HN5G', description='7HN5G', dbxrefs=[]),\n",
       " SeqRecord(seq=Seq('ATAATTTTGTTTAACTTTAAGAAGGAGATATACATATGGCGCGCTAGCGCGCGG...GAG'), id='7ODDK', name='7ODDK', description='7ODDK', dbxrefs=[]),\n",
       " SeqRecord(seq=Seq('ATAATTTTGTTTAACTTTAAGAAGGAGATATACATATGGCGCGCTAGCGCGCGG...GAG'), id='A4Z57', name='A4Z57', description='A4Z57', dbxrefs=[]),\n",
       " SeqRecord(seq=Seq('ATAATTTTGTTTAACTTTAAGAAGGAGATATACATATGGCGCGCTAGCGCGCGG...GAG'), id='AQQG3', name='AQQG3', description='AQQG3', dbxrefs=[]),\n",
       " SeqRecord(seq=Seq('ATAATTTTGTTTAACTTTAAGAAGGAGATATACATATGGCGCGCTAGCGCGCGG...GAG'), id='B44J3', name='B44J3', description='B44J3', dbxrefs=[]),\n",
       " SeqRecord(seq=Seq('ATAATTTTGTTTAACTTTAAGAAGGAGATATACATATGGCGCGCTAGCGCGCGG...GAG'), id='BT4PQ', name='BT4PQ', description='BT4PQ', dbxrefs=[]),\n",
       " SeqRecord(seq=Seq('ATAATTTTGTTTAACTTTAAGAAGGAGATATACATATGGCGCGCTAGCGCGCGG...GCT'), id='G5U2Q', name='G5U2Q', description='G5U2Q', dbxrefs=[]),\n",
       " SeqRecord(seq=Seq('ATAATTTTGTTTAACTTTAAGAAGGAGATATACATATGGCGCGCTAGCGCGCGG...GCT'), id='HDKTR', name='HDKTR', description='HDKTR', dbxrefs=[]),\n",
       " SeqRecord(seq=Seq('ATAATTTTGTTTAACTTTAAGAAGGAGATATACATATGGCGCGCTAGCGCGCGG...GAG'), id='IUBQM', name='IUBQM', description='IUBQM', dbxrefs=[]),\n",
       " SeqRecord(seq=Seq('ATAATTTTGTTTAACTTTAAGAAGGAGATATACATATGGCGCGCTAGCGCGCGG...GAG'), id='KL6FH', name='KL6FH', description='KL6FH', dbxrefs=[]),\n",
       " SeqRecord(seq=Seq('ATAATTTTGTTTAACTTTAAGAAGGAGATATACATATGGCGCGCTAGCGCGCGG...GAG'), id='N5F6W', name='N5F6W', description='N5F6W', dbxrefs=[]),\n",
       " SeqRecord(seq=Seq('ATAATTTTGTTTAACTTTAAGAAGGAGATATACATATGGCGCGCTAGCGCGCGG...GAG'), id='NGL7D', name='NGL7D', description='NGL7D', dbxrefs=[]),\n",
       " SeqRecord(seq=Seq('ATAATTTTGTTTAACTTTAAGAAGGAGATATACATATGGCGCGCTAGCGCGCGG...GAG'), id='PQFUU', name='PQFUU', description='PQFUU', dbxrefs=[]),\n",
       " SeqRecord(seq=Seq('ATAATTTTGTTTAACTTTAAGAAGGAGATATACATATGGCGCGCTAGCGCGCGG...GAA'), id='PZSNI', name='PZSNI', description='PZSNI', dbxrefs=[]),\n",
       " SeqRecord(seq=Seq('ATAATTTTGTTTAACTTTAAGAAGGAGATATACATATGGCGCGCTAGCGCGCGG...GAG'), id='UNNSS', name='UNNSS', description='UNNSS', dbxrefs=[]),\n",
       " SeqRecord(seq=Seq('ATAATTTTGTTTAACTTTAAGAAGGAGATATACATATGGCGCGCTAGCGCGCGG...GAG'), id='VM5OW', name='VM5OW', description='VM5OW', dbxrefs=[])]"
      ]
     },
     "execution_count": 10,
     "metadata": {},
     "output_type": "execute_result"
    }
   ],
   "source": [
    "insert_list = []\n",
    "for  record in SeqIO.parse(insert_path, \"fasta\"):\n",
    "    record.annotations['topology'] = 'circular'\n",
    "    insert_list.append(record)\n",
    "\n",
    "insert_list"
   ]
  },
  {
   "cell_type": "code",
   "execution_count": null,
   "metadata": {},
   "outputs": [
    {
     "name": "stdout",
     "output_type": "stream",
     "text": [
      "er12_pet-41a_mskek_spydersilk_16gs_agga_ccdb_ctcg_his_trp.gb\n",
      "MSKEKIANSPFSNPNTAEAFARSFVSNIVSSGEFGAQGAEKFDDIIQSLIQAQSMGKGRHDTKADAKAMQVALASSIAELVIAESSGGDVQRKTNVISNALRNALMSTTGSPNEEFVHEVQDLIQMLSQEQINEVGSGGGSGGGGSGGSSGKEMTLNITVDKIEQMPKVKELIDEWIKYAEEKGWNVTVNVTINLGGSGSHHHHHHHHW\n",
      "MSKEKIANSPFSNPNTAEAFARSFVSNIVSSGEFGAQGAEKFDDIIQSLIQAQSMGKGRHDTKADAKAMQVALASSIAELVIAESSGGDVQRKTNVISNALRNALMSTTGSPNEEFVHEVQDLIQMLSQEQINEVGSGGGSGGGGSGGSSGERLEVSFSATITDREDLEKLVETIKELTAAGASVSVSLTMSLELAIEFMKAVKDLKGLSLSLTVGGSGSHHHHHHHHW\n",
      "MSKEKIANSPFSNPNTAEAFARSFVSNIVSSGEFGAQGAEKFDDIIQSLIQAQSMGKGRHDTKADAKAMQVALASSIAELVIAESSGGDVQRKTNVISNALRNALMSTTGSPNEEFVHEVQDLIQMLSQEQINEVGSGGGSGGGGSGGSSGEKEEARLELIRELLELAKKSNLEVAKEIMKLANWLMEEVVKEGGVEEVKRLNEILREIIGSGSHHHHHHHHW\n",
      "MSKEKIANSPFSNPNTAEAFARSFVSNIVSSGEFGAQGAEKFDDIIQSLIQAQSMGKGRHDTKADAKAMQVALASSIAELVIAESSGGDVQRKTNVISNALRNALMSTTGSPNEEFVHEVQDLIQMLSQEQINEVGSGGGSGGGGSGGSSGKVKVTVTINVEAEPEKLKEALEIIKELTEEFLEYYKDYELTININLYLRWGSGSHHHHHHHHW\n",
      "MSKEKIANSPFSNPNTAEAFARSFVSNIVSSGEFGAQGAEKFDDIIQSLIQAQSMGKGRHDTKADAKAMQVALASSIAELVIAESSGGDVQRKTNVISNALRNALMSTTGSPNEEFVHEVQDLIQMLSQEQINEVGSGGGSGGGGSGGSSGTKTEFTLTYNFDAYLEKESDLEKAKELEEKLYKELLEKAKELKKEFDTLKVNFNVNYYYKGSGSHHHHHHHHW\n",
      "MSKEKIANSPFSNPNTAEAFARSFVSNIVSSGEFGAQGAEKFDDIIQSLIQAQSMGKGRHDTKADAKAMQVALASSIAELVIAESSGGDVQRKTNVISNALRNALMSTTGSPNEEFVHEVQDLIQMLSQEQINEVGSGGGSGGGGSGGSSGKKVSISLSFGEGVSLEEVREALKYLIEMVKELSEKGNEVEVSISVAATPEIMKEIKKAVKELAEIENVSISVSLSMNGSGSHHHHHHHHW\n",
      "MSKEKIANSPFSNPNTAEAFARSFVSNIVSSGEFGAQGAEKFDDIIQSLIQAQSMGKGRHDTKADAKAMQVALASSIAELVIAESSGGDVQRKTNVISNALRNALMSTTGSPNEEFVHEVQDLIQMLSQEQINEVGSGGGSGGGGSGGSSGSASLSISISADSLEKLTEAAEAVLETLRRRGASASLTFTVSNADFSSGALEQLKRLVEQALEAARELDLSITLNISFSGSGSHHHHHHHHW\n",
      "MSKEKIANSPFSNPNTAEAFARSFVSNIVSSGEFGAQGAEKFDDIIQSLIQAQSMGKGRHDTKADAKAMQVALASSIAELVIAESSGGDVQRKTNVISNALRNALMSTTGSPNEEFVHEVQDLIQMLSQEQINEVGSGGGSGGGGSGGSSGKTSLSFSVYTYSVEEALRLAEELLPRLLELARLAGVDEVSLSFSVYLEGSGSHHHHHHHHW\n",
      "MSKEKIANSPFSNPNTAEAFARSFVSNIVSSGEFGAQGAEKFDDIIQSLIQAQSMGKGRHDTKADAKAMQVALASSIAELVIAESSGGDVQRKTNVISNALRNALMSTTGSPNEEFVHEVQDLIQMLSQEQINEVGSGGGSGGGGSGGSSGKTALEVRVRTYSVEEGLRLLEELLPRLLALAREAGLDEVRLRVEVYLEGSGSHHHHHHHHW\n",
      "MSKEKIANSPFSNPNTAEAFARSFVSNIVSSGEFGAQGAEKFDDIIQSLIQAQSMGKGRHDTKADAKAMQVALASSIAELVIAESSGGDVQRKTNVISNALRNALMSTTGSPNEEFVHEVQDLIQMLSQEQINEVGSGGGSGGGGSGGSSGYYLERMKLANEILTELLKLAAEYIKLGLYEVAVLVVELAAELVVALLAEAPLEELVERVRALLERLLEELRRIREEKEGSGSHHHHHHHHW\n",
      "MSKEKIANSPFSNPNTAEAFARSFVSNIVSSGEFGAQGAEKFDDIIQSLIQAQSMGKGRHDTKADAKAMQVALASSIAELVIAESSGGDVQRKTNVISNALRNALMSTTGSPNEEFVHEVQDLIQMLSQEQINEVGSGGGSGGGGSGGSSGRTVEVSLTIGDDPKELELVKELLRELAAEPGARVSITTTSLEVARELTRAALEEGLNLRLTQDGSGSHHHHHHHHW\n",
      "MSKEKIANSPFSNPNTAEAFARSFVSNIVSSGEFGAQGAEKFDDIIQSLIQAQSMGKGRHDTKADAKAMQVALASSIAELVIAESSGGDVQRKTNVISNALRNALMSTTGSPNEEFVHEVQDLIQMLSQEQINEVGSGGGSGGGGSGGSSGELKISFSATITDQEALDALVETIKELARAGASITVNLTMDLELAIEAMRAVKDLKGLTLNLTVGGSGSHHHHHHHHW\n",
      "MSKEKIANSPFSNPNTAEAFARSFVSNIVSSGEFGAQGAEKFDDIIQSLIQAQSMGKGRHDTKADAKAMQVALASSIAELVIAESSGGDVQRKTNVISNALRNALMSTTGSPNEEFVHEVQDLIQMLSQEQINEVGSGGGSGGGGSGGSSGKLETFKLANEILTNLLKNALEYIKEGLYKAAVKVVELAKELVLAIIEDSPMEETAERVRELLEELLETLREEAEKKEGSGSHHHHHHHHW\n",
      "MSKEKIANSPFSNPNTAEAFARSFVSNIVSSGEFGAQGAEKFDDIIQSLIQAQSMGKGRHDTKADAKAMQVALASSIAELVIAESSGGDVQRKTNVISNALRNALMSTTGSPNEEFVHEVQDLIQMLSQEQINEVGSGGGSGGGGSGGSSGYLEKMALVNKILTELLKINLEYIKLGLYEQAVLVVRLAAELALAIIREEPMEELAERLERLLRELIEALEGSGSHHHHHHHHW\n",
      "MSKEKIANSPFSNPNTAEAFARSFVSNIVSSGEFGAQGAEKFDDIIQSLIQAQSMGKGRHDTKADAKAMQVALASSIAELVIAESSGGDVQRKTNVISNALRNALMSTTGSPNEEFVHEVQDLIQMLSQEQINEVGSGGGSGGGGSGGSSGMYTELAVRVETYSVERGLELLRELLPEVLALAREAGVDKVKLEVAVKLEGSGSHHHHHHHHW\n",
      "MSKEKIANSPFSNPNTAEAFARSFVSNIVSSGEFGAQGAEKFDDIIQSLIQAQSMGKGRHDTKADAKAMQVALASSIAELVIAESSGGDVQRKTNVISNALRNALMSTTGSPNEEFVHEVQDLIQMLSQEQINEVGSGGGSGGGGSGGSSGSEERRLVEAMREFLEAAVEDESVTIAELLDLIKALIYAGEKALLRVALEGAARFLRRRSGSGSHHHHHHHHW\n",
      "MSKEKIANSPFSNPNTAEAFARSFVSNIVSSGEFGAQGAEKFDDIIQSLIQAQSMGKGRHDTKADAKAMQVALASSIAELVIAESSGGDVQRKTNVISNALRNALMSTTGSPNEEFVHEVQDLIQMLSQEQINEVGSGGGSGGGGSGGSSGSRKVSFSISLSGTDTEEVVKTVEAILKGIKELAEERKDDEISLSISISNADPVEVAKKILEEIKKLDLDEISVSITSSGSGSHHHHHHHHW\n"
     ]
    },
    {
     "name": "stderr",
     "output_type": "stream",
     "text": [
      "/home/akonstantinova/anaconda3/lib/python3.11/site-packages/Bio/SeqFeature.py:1040: BiopythonParserWarning: Attempting to fix invalid location '5454..139' as it looks like incorrect origin wrapping. Please fix input file, this could have unintended behavior.\n",
      "  warnings.warn(\n",
      "/home/akonstantinova/anaconda3/lib/python3.11/site-packages/Bio/Seq.py:2880: BiopythonWarning: Partial codon, len(sequence) not a multiple of three. Explicitly trim the sequence or add trailing N before translation. This may become an error in future.\n",
      "  warnings.warn(\n"
     ]
    }
   ],
   "source": [
    "properties_list = []\n",
    "\n",
    "#either can specify a vector to clone into, or go through all vectors in the folder?\n",
    "# vectors_to_use = ['er12_pet-41a_mskek_spydersilk_16gs_agga_ccdb_ctcg_his_trp.gb']\n",
    "vectors_to_use = os.listdir(vectors_path)\n",
    "\n",
    "for vec in os.listdir(vectors_path):\n",
    "    if vec in vectors_to_use:\n",
    "        print(vec)\n",
    "        for  record in SeqIO.parse(vectors_path+'/'+vec, \"genbank\"):\n",
    "            vector = record\n",
    "            for insert in insert_list:\n",
    "                try:\n",
    "                    assembly_record = create_assembly(vector, insert)\n",
    "                    good_aa, good_dna = create_translation(assembly_record)\n",
    "                    print(good_aa)\n",
    "                    protein_properties= get_properties(good_aa, assembly_record)\n",
    "                    protein_properties['dna_sequence']=good_dna\n",
    "                    properties_list.append(protein_properties)\n",
    "\n",
    "                except IndexError:\n",
    "                    print('there has been an error with the assembly ', insert.id)\n",
    "                    continue\n"
   ]
  },
  {
   "cell_type": "code",
   "execution_count": 10,
   "metadata": {},
   "outputs": [],
   "source": [
    "with open('assemblies_aa.fasta', 'w') as f:\n",
    "    for i in properties_list:\n",
    "        f.write(f\">{i['name']}\\n\")\n",
    "        f.write(f\"{i['sequence']}\\n\")\n",
    "\n",
    "with open('assemblies_dna.fasta', 'w') as f:\n",
    "    for i in properties_list:\n",
    "        f.write(f\">{i['name']}\\n\")\n",
    "        f.write(f\"{i['dna_sequence']}\\n\")"
   ]
  },
  {
   "cell_type": "code",
   "execution_count": null,
   "metadata": {},
   "outputs": [],
   "source": [
    "import pandas as pd\n",
    "df = pd.DataFrame.from_dict(properties_list)\n",
    "df.to_csv('protein_properties.csv', index=False)"
   ]
  },
  {
   "cell_type": "code",
   "execution_count": null,
   "metadata": {},
   "outputs": [
    {
     "data": {
      "text/plain": [
       "'/home/akonstantinova/projects/2025/2025_06_30_round3_domesticator/out'"
      ]
     },
     "execution_count": 12,
     "metadata": {},
     "output_type": "execute_result"
    }
   ],
   "source": [
    "#get back to the base directory \n",
    "os.chdir(base_dir)\n",
    "os.getcwd()"
   ]
  }
 ],
 "metadata": {
  "kernelspec": {
   "display_name": "base",
   "language": "python",
   "name": "python3"
  },
  "language_info": {
   "codemirror_mode": {
    "name": "ipython",
    "version": 3
   },
   "file_extension": ".py",
   "mimetype": "text/x-python",
   "name": "python",
   "nbconvert_exporter": "python",
   "pygments_lexer": "ipython3",
   "version": "3.11.8"
  }
 },
 "nbformat": 4,
 "nbformat_minor": 2
}
